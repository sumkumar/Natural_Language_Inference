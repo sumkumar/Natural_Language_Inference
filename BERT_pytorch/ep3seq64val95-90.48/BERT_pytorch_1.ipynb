{
  "nbformat": 4,
  "nbformat_minor": 0,
  "metadata": {
    "colab": {
      "name": "BERT_pytorch_1.ipynb",
      "provenance": [],
      "collapsed_sections": []
    },
    "kernelspec": {
      "name": "python3",
      "display_name": "Python 3"
    },
    "accelerator": "GPU",
    "widgets": {
      "application/vnd.jupyter.widget-state+json": {
        "28ac64da96d4468b9dcb7fd5822e2da7": {
          "model_module": "@jupyter-widgets/controls",
          "model_name": "HBoxModel",
          "state": {
            "_view_name": "HBoxView",
            "_dom_classes": [],
            "_model_name": "HBoxModel",
            "_view_module": "@jupyter-widgets/controls",
            "_model_module_version": "1.5.0",
            "_view_count": null,
            "_view_module_version": "1.5.0",
            "box_style": "",
            "layout": "IPY_MODEL_ad0e6eae52824594adb04c0b56ce40d9",
            "_model_module": "@jupyter-widgets/controls",
            "children": [
              "IPY_MODEL_6beaa84b77c44359a6065eac9a78ecd0",
              "IPY_MODEL_f97442819b534f6e8f76b3f474346a8b"
            ]
          }
        },
        "ad0e6eae52824594adb04c0b56ce40d9": {
          "model_module": "@jupyter-widgets/base",
          "model_name": "LayoutModel",
          "state": {
            "_view_name": "LayoutView",
            "grid_template_rows": null,
            "right": null,
            "justify_content": null,
            "_view_module": "@jupyter-widgets/base",
            "overflow": null,
            "_model_module_version": "1.2.0",
            "_view_count": null,
            "flex_flow": null,
            "width": null,
            "min_width": null,
            "border": null,
            "align_items": null,
            "bottom": null,
            "_model_module": "@jupyter-widgets/base",
            "top": null,
            "grid_column": null,
            "overflow_y": null,
            "overflow_x": null,
            "grid_auto_flow": null,
            "grid_area": null,
            "grid_template_columns": null,
            "flex": null,
            "_model_name": "LayoutModel",
            "justify_items": null,
            "grid_row": null,
            "max_height": null,
            "align_content": null,
            "visibility": null,
            "align_self": null,
            "height": null,
            "min_height": null,
            "padding": null,
            "grid_auto_rows": null,
            "grid_gap": null,
            "max_width": null,
            "order": null,
            "_view_module_version": "1.2.0",
            "grid_template_areas": null,
            "object_position": null,
            "object_fit": null,
            "grid_auto_columns": null,
            "margin": null,
            "display": null,
            "left": null
          }
        },
        "6beaa84b77c44359a6065eac9a78ecd0": {
          "model_module": "@jupyter-widgets/controls",
          "model_name": "IntProgressModel",
          "state": {
            "_view_name": "ProgressView",
            "style": "IPY_MODEL_ee43015b4ce84d5ab31e88d8f6d233c2",
            "_dom_classes": [],
            "description": "Downloading: 100%",
            "_model_name": "IntProgressModel",
            "bar_style": "success",
            "max": 231508,
            "_view_module": "@jupyter-widgets/controls",
            "_model_module_version": "1.5.0",
            "value": 231508,
            "_view_count": null,
            "_view_module_version": "1.5.0",
            "orientation": "horizontal",
            "min": 0,
            "description_tooltip": null,
            "_model_module": "@jupyter-widgets/controls",
            "layout": "IPY_MODEL_80860433f89549989495a444b653fb8f"
          }
        },
        "f97442819b534f6e8f76b3f474346a8b": {
          "model_module": "@jupyter-widgets/controls",
          "model_name": "HTMLModel",
          "state": {
            "_view_name": "HTMLView",
            "style": "IPY_MODEL_55d52326909b454d97bdc51fc649061a",
            "_dom_classes": [],
            "description": "",
            "_model_name": "HTMLModel",
            "placeholder": "​",
            "_view_module": "@jupyter-widgets/controls",
            "_model_module_version": "1.5.0",
            "value": " 232k/232k [00:00&lt;00:00, 745kB/s]",
            "_view_count": null,
            "_view_module_version": "1.5.0",
            "description_tooltip": null,
            "_model_module": "@jupyter-widgets/controls",
            "layout": "IPY_MODEL_3f176e25a2484df795e99e301c90c728"
          }
        },
        "ee43015b4ce84d5ab31e88d8f6d233c2": {
          "model_module": "@jupyter-widgets/controls",
          "model_name": "ProgressStyleModel",
          "state": {
            "_view_name": "StyleView",
            "_model_name": "ProgressStyleModel",
            "description_width": "initial",
            "_view_module": "@jupyter-widgets/base",
            "_model_module_version": "1.5.0",
            "_view_count": null,
            "_view_module_version": "1.2.0",
            "bar_color": null,
            "_model_module": "@jupyter-widgets/controls"
          }
        },
        "80860433f89549989495a444b653fb8f": {
          "model_module": "@jupyter-widgets/base",
          "model_name": "LayoutModel",
          "state": {
            "_view_name": "LayoutView",
            "grid_template_rows": null,
            "right": null,
            "justify_content": null,
            "_view_module": "@jupyter-widgets/base",
            "overflow": null,
            "_model_module_version": "1.2.0",
            "_view_count": null,
            "flex_flow": null,
            "width": null,
            "min_width": null,
            "border": null,
            "align_items": null,
            "bottom": null,
            "_model_module": "@jupyter-widgets/base",
            "top": null,
            "grid_column": null,
            "overflow_y": null,
            "overflow_x": null,
            "grid_auto_flow": null,
            "grid_area": null,
            "grid_template_columns": null,
            "flex": null,
            "_model_name": "LayoutModel",
            "justify_items": null,
            "grid_row": null,
            "max_height": null,
            "align_content": null,
            "visibility": null,
            "align_self": null,
            "height": null,
            "min_height": null,
            "padding": null,
            "grid_auto_rows": null,
            "grid_gap": null,
            "max_width": null,
            "order": null,
            "_view_module_version": "1.2.0",
            "grid_template_areas": null,
            "object_position": null,
            "object_fit": null,
            "grid_auto_columns": null,
            "margin": null,
            "display": null,
            "left": null
          }
        },
        "55d52326909b454d97bdc51fc649061a": {
          "model_module": "@jupyter-widgets/controls",
          "model_name": "DescriptionStyleModel",
          "state": {
            "_view_name": "StyleView",
            "_model_name": "DescriptionStyleModel",
            "description_width": "",
            "_view_module": "@jupyter-widgets/base",
            "_model_module_version": "1.5.0",
            "_view_count": null,
            "_view_module_version": "1.2.0",
            "_model_module": "@jupyter-widgets/controls"
          }
        },
        "3f176e25a2484df795e99e301c90c728": {
          "model_module": "@jupyter-widgets/base",
          "model_name": "LayoutModel",
          "state": {
            "_view_name": "LayoutView",
            "grid_template_rows": null,
            "right": null,
            "justify_content": null,
            "_view_module": "@jupyter-widgets/base",
            "overflow": null,
            "_model_module_version": "1.2.0",
            "_view_count": null,
            "flex_flow": null,
            "width": null,
            "min_width": null,
            "border": null,
            "align_items": null,
            "bottom": null,
            "_model_module": "@jupyter-widgets/base",
            "top": null,
            "grid_column": null,
            "overflow_y": null,
            "overflow_x": null,
            "grid_auto_flow": null,
            "grid_area": null,
            "grid_template_columns": null,
            "flex": null,
            "_model_name": "LayoutModel",
            "justify_items": null,
            "grid_row": null,
            "max_height": null,
            "align_content": null,
            "visibility": null,
            "align_self": null,
            "height": null,
            "min_height": null,
            "padding": null,
            "grid_auto_rows": null,
            "grid_gap": null,
            "max_width": null,
            "order": null,
            "_view_module_version": "1.2.0",
            "grid_template_areas": null,
            "object_position": null,
            "object_fit": null,
            "grid_auto_columns": null,
            "margin": null,
            "display": null,
            "left": null
          }
        },
        "7406d646e6ff4a5a8dd110f83f925149": {
          "model_module": "@jupyter-widgets/controls",
          "model_name": "HBoxModel",
          "state": {
            "_view_name": "HBoxView",
            "_dom_classes": [],
            "_model_name": "HBoxModel",
            "_view_module": "@jupyter-widgets/controls",
            "_model_module_version": "1.5.0",
            "_view_count": null,
            "_view_module_version": "1.5.0",
            "box_style": "",
            "layout": "IPY_MODEL_9760aacf6bc44648a912336f52b82dae",
            "_model_module": "@jupyter-widgets/controls",
            "children": [
              "IPY_MODEL_02b27e3519424cf082e1da570ba7905b",
              "IPY_MODEL_a8cb7967a75c4f308a886ab340b998c5"
            ]
          }
        },
        "9760aacf6bc44648a912336f52b82dae": {
          "model_module": "@jupyter-widgets/base",
          "model_name": "LayoutModel",
          "state": {
            "_view_name": "LayoutView",
            "grid_template_rows": null,
            "right": null,
            "justify_content": null,
            "_view_module": "@jupyter-widgets/base",
            "overflow": null,
            "_model_module_version": "1.2.0",
            "_view_count": null,
            "flex_flow": null,
            "width": null,
            "min_width": null,
            "border": null,
            "align_items": null,
            "bottom": null,
            "_model_module": "@jupyter-widgets/base",
            "top": null,
            "grid_column": null,
            "overflow_y": null,
            "overflow_x": null,
            "grid_auto_flow": null,
            "grid_area": null,
            "grid_template_columns": null,
            "flex": null,
            "_model_name": "LayoutModel",
            "justify_items": null,
            "grid_row": null,
            "max_height": null,
            "align_content": null,
            "visibility": null,
            "align_self": null,
            "height": null,
            "min_height": null,
            "padding": null,
            "grid_auto_rows": null,
            "grid_gap": null,
            "max_width": null,
            "order": null,
            "_view_module_version": "1.2.0",
            "grid_template_areas": null,
            "object_position": null,
            "object_fit": null,
            "grid_auto_columns": null,
            "margin": null,
            "display": null,
            "left": null
          }
        },
        "02b27e3519424cf082e1da570ba7905b": {
          "model_module": "@jupyter-widgets/controls",
          "model_name": "IntProgressModel",
          "state": {
            "_view_name": "ProgressView",
            "style": "IPY_MODEL_8bd6fa6a0dee4065a6b48ff0f0edc7be",
            "_dom_classes": [],
            "description": "Downloading: 100%",
            "_model_name": "IntProgressModel",
            "bar_style": "success",
            "max": 361,
            "_view_module": "@jupyter-widgets/controls",
            "_model_module_version": "1.5.0",
            "value": 361,
            "_view_count": null,
            "_view_module_version": "1.5.0",
            "orientation": "horizontal",
            "min": 0,
            "description_tooltip": null,
            "_model_module": "@jupyter-widgets/controls",
            "layout": "IPY_MODEL_44f9a91c0c244a53b480f6a73d8502cd"
          }
        },
        "a8cb7967a75c4f308a886ab340b998c5": {
          "model_module": "@jupyter-widgets/controls",
          "model_name": "HTMLModel",
          "state": {
            "_view_name": "HTMLView",
            "style": "IPY_MODEL_c69e67120c7243ab8680f46c96c037e3",
            "_dom_classes": [],
            "description": "",
            "_model_name": "HTMLModel",
            "placeholder": "​",
            "_view_module": "@jupyter-widgets/controls",
            "_model_module_version": "1.5.0",
            "value": " 361/361 [00:28&lt;00:00, 12.8B/s]",
            "_view_count": null,
            "_view_module_version": "1.5.0",
            "description_tooltip": null,
            "_model_module": "@jupyter-widgets/controls",
            "layout": "IPY_MODEL_38ee5be8b26643da98924743456a52da"
          }
        },
        "8bd6fa6a0dee4065a6b48ff0f0edc7be": {
          "model_module": "@jupyter-widgets/controls",
          "model_name": "ProgressStyleModel",
          "state": {
            "_view_name": "StyleView",
            "_model_name": "ProgressStyleModel",
            "description_width": "initial",
            "_view_module": "@jupyter-widgets/base",
            "_model_module_version": "1.5.0",
            "_view_count": null,
            "_view_module_version": "1.2.0",
            "bar_color": null,
            "_model_module": "@jupyter-widgets/controls"
          }
        },
        "44f9a91c0c244a53b480f6a73d8502cd": {
          "model_module": "@jupyter-widgets/base",
          "model_name": "LayoutModel",
          "state": {
            "_view_name": "LayoutView",
            "grid_template_rows": null,
            "right": null,
            "justify_content": null,
            "_view_module": "@jupyter-widgets/base",
            "overflow": null,
            "_model_module_version": "1.2.0",
            "_view_count": null,
            "flex_flow": null,
            "width": null,
            "min_width": null,
            "border": null,
            "align_items": null,
            "bottom": null,
            "_model_module": "@jupyter-widgets/base",
            "top": null,
            "grid_column": null,
            "overflow_y": null,
            "overflow_x": null,
            "grid_auto_flow": null,
            "grid_area": null,
            "grid_template_columns": null,
            "flex": null,
            "_model_name": "LayoutModel",
            "justify_items": null,
            "grid_row": null,
            "max_height": null,
            "align_content": null,
            "visibility": null,
            "align_self": null,
            "height": null,
            "min_height": null,
            "padding": null,
            "grid_auto_rows": null,
            "grid_gap": null,
            "max_width": null,
            "order": null,
            "_view_module_version": "1.2.0",
            "grid_template_areas": null,
            "object_position": null,
            "object_fit": null,
            "grid_auto_columns": null,
            "margin": null,
            "display": null,
            "left": null
          }
        },
        "c69e67120c7243ab8680f46c96c037e3": {
          "model_module": "@jupyter-widgets/controls",
          "model_name": "DescriptionStyleModel",
          "state": {
            "_view_name": "StyleView",
            "_model_name": "DescriptionStyleModel",
            "description_width": "",
            "_view_module": "@jupyter-widgets/base",
            "_model_module_version": "1.5.0",
            "_view_count": null,
            "_view_module_version": "1.2.0",
            "_model_module": "@jupyter-widgets/controls"
          }
        },
        "38ee5be8b26643da98924743456a52da": {
          "model_module": "@jupyter-widgets/base",
          "model_name": "LayoutModel",
          "state": {
            "_view_name": "LayoutView",
            "grid_template_rows": null,
            "right": null,
            "justify_content": null,
            "_view_module": "@jupyter-widgets/base",
            "overflow": null,
            "_model_module_version": "1.2.0",
            "_view_count": null,
            "flex_flow": null,
            "width": null,
            "min_width": null,
            "border": null,
            "align_items": null,
            "bottom": null,
            "_model_module": "@jupyter-widgets/base",
            "top": null,
            "grid_column": null,
            "overflow_y": null,
            "overflow_x": null,
            "grid_auto_flow": null,
            "grid_area": null,
            "grid_template_columns": null,
            "flex": null,
            "_model_name": "LayoutModel",
            "justify_items": null,
            "grid_row": null,
            "max_height": null,
            "align_content": null,
            "visibility": null,
            "align_self": null,
            "height": null,
            "min_height": null,
            "padding": null,
            "grid_auto_rows": null,
            "grid_gap": null,
            "max_width": null,
            "order": null,
            "_view_module_version": "1.2.0",
            "grid_template_areas": null,
            "object_position": null,
            "object_fit": null,
            "grid_auto_columns": null,
            "margin": null,
            "display": null,
            "left": null
          }
        },
        "fbce8d85471e44e1be28b146b7fd98f5": {
          "model_module": "@jupyter-widgets/controls",
          "model_name": "HBoxModel",
          "state": {
            "_view_name": "HBoxView",
            "_dom_classes": [],
            "_model_name": "HBoxModel",
            "_view_module": "@jupyter-widgets/controls",
            "_model_module_version": "1.5.0",
            "_view_count": null,
            "_view_module_version": "1.5.0",
            "box_style": "",
            "layout": "IPY_MODEL_ce0485f816a54468976e3aa8ef4cf3c4",
            "_model_module": "@jupyter-widgets/controls",
            "children": [
              "IPY_MODEL_e0c7e543fae74fb5b20f942022c88b08",
              "IPY_MODEL_d0e2c6ed79964dceac19de297671e4cd"
            ]
          }
        },
        "ce0485f816a54468976e3aa8ef4cf3c4": {
          "model_module": "@jupyter-widgets/base",
          "model_name": "LayoutModel",
          "state": {
            "_view_name": "LayoutView",
            "grid_template_rows": null,
            "right": null,
            "justify_content": null,
            "_view_module": "@jupyter-widgets/base",
            "overflow": null,
            "_model_module_version": "1.2.0",
            "_view_count": null,
            "flex_flow": null,
            "width": null,
            "min_width": null,
            "border": null,
            "align_items": null,
            "bottom": null,
            "_model_module": "@jupyter-widgets/base",
            "top": null,
            "grid_column": null,
            "overflow_y": null,
            "overflow_x": null,
            "grid_auto_flow": null,
            "grid_area": null,
            "grid_template_columns": null,
            "flex": null,
            "_model_name": "LayoutModel",
            "justify_items": null,
            "grid_row": null,
            "max_height": null,
            "align_content": null,
            "visibility": null,
            "align_self": null,
            "height": null,
            "min_height": null,
            "padding": null,
            "grid_auto_rows": null,
            "grid_gap": null,
            "max_width": null,
            "order": null,
            "_view_module_version": "1.2.0",
            "grid_template_areas": null,
            "object_position": null,
            "object_fit": null,
            "grid_auto_columns": null,
            "margin": null,
            "display": null,
            "left": null
          }
        },
        "e0c7e543fae74fb5b20f942022c88b08": {
          "model_module": "@jupyter-widgets/controls",
          "model_name": "IntProgressModel",
          "state": {
            "_view_name": "ProgressView",
            "style": "IPY_MODEL_d5c697f48d914ff592597b314fe764dd",
            "_dom_classes": [],
            "description": "Downloading: 100%",
            "_model_name": "IntProgressModel",
            "bar_style": "success",
            "max": 440473133,
            "_view_module": "@jupyter-widgets/controls",
            "_model_module_version": "1.5.0",
            "value": 440473133,
            "_view_count": null,
            "_view_module_version": "1.5.0",
            "orientation": "horizontal",
            "min": 0,
            "description_tooltip": null,
            "_model_module": "@jupyter-widgets/controls",
            "layout": "IPY_MODEL_2d0874cc27d84570bc32ea73b3f47d4f"
          }
        },
        "d0e2c6ed79964dceac19de297671e4cd": {
          "model_module": "@jupyter-widgets/controls",
          "model_name": "HTMLModel",
          "state": {
            "_view_name": "HTMLView",
            "style": "IPY_MODEL_ad7f715a393a40008963b032b1262e5b",
            "_dom_classes": [],
            "description": "",
            "_model_name": "HTMLModel",
            "placeholder": "​",
            "_view_module": "@jupyter-widgets/controls",
            "_model_module_version": "1.5.0",
            "value": " 440M/440M [00:14&lt;00:00, 29.4MB/s]",
            "_view_count": null,
            "_view_module_version": "1.5.0",
            "description_tooltip": null,
            "_model_module": "@jupyter-widgets/controls",
            "layout": "IPY_MODEL_9cd7ba36337b41a285d096ae9eeea79c"
          }
        },
        "d5c697f48d914ff592597b314fe764dd": {
          "model_module": "@jupyter-widgets/controls",
          "model_name": "ProgressStyleModel",
          "state": {
            "_view_name": "StyleView",
            "_model_name": "ProgressStyleModel",
            "description_width": "initial",
            "_view_module": "@jupyter-widgets/base",
            "_model_module_version": "1.5.0",
            "_view_count": null,
            "_view_module_version": "1.2.0",
            "bar_color": null,
            "_model_module": "@jupyter-widgets/controls"
          }
        },
        "2d0874cc27d84570bc32ea73b3f47d4f": {
          "model_module": "@jupyter-widgets/base",
          "model_name": "LayoutModel",
          "state": {
            "_view_name": "LayoutView",
            "grid_template_rows": null,
            "right": null,
            "justify_content": null,
            "_view_module": "@jupyter-widgets/base",
            "overflow": null,
            "_model_module_version": "1.2.0",
            "_view_count": null,
            "flex_flow": null,
            "width": null,
            "min_width": null,
            "border": null,
            "align_items": null,
            "bottom": null,
            "_model_module": "@jupyter-widgets/base",
            "top": null,
            "grid_column": null,
            "overflow_y": null,
            "overflow_x": null,
            "grid_auto_flow": null,
            "grid_area": null,
            "grid_template_columns": null,
            "flex": null,
            "_model_name": "LayoutModel",
            "justify_items": null,
            "grid_row": null,
            "max_height": null,
            "align_content": null,
            "visibility": null,
            "align_self": null,
            "height": null,
            "min_height": null,
            "padding": null,
            "grid_auto_rows": null,
            "grid_gap": null,
            "max_width": null,
            "order": null,
            "_view_module_version": "1.2.0",
            "grid_template_areas": null,
            "object_position": null,
            "object_fit": null,
            "grid_auto_columns": null,
            "margin": null,
            "display": null,
            "left": null
          }
        },
        "ad7f715a393a40008963b032b1262e5b": {
          "model_module": "@jupyter-widgets/controls",
          "model_name": "DescriptionStyleModel",
          "state": {
            "_view_name": "StyleView",
            "_model_name": "DescriptionStyleModel",
            "description_width": "",
            "_view_module": "@jupyter-widgets/base",
            "_model_module_version": "1.5.0",
            "_view_count": null,
            "_view_module_version": "1.2.0",
            "_model_module": "@jupyter-widgets/controls"
          }
        },
        "9cd7ba36337b41a285d096ae9eeea79c": {
          "model_module": "@jupyter-widgets/base",
          "model_name": "LayoutModel",
          "state": {
            "_view_name": "LayoutView",
            "grid_template_rows": null,
            "right": null,
            "justify_content": null,
            "_view_module": "@jupyter-widgets/base",
            "overflow": null,
            "_model_module_version": "1.2.0",
            "_view_count": null,
            "flex_flow": null,
            "width": null,
            "min_width": null,
            "border": null,
            "align_items": null,
            "bottom": null,
            "_model_module": "@jupyter-widgets/base",
            "top": null,
            "grid_column": null,
            "overflow_y": null,
            "overflow_x": null,
            "grid_auto_flow": null,
            "grid_area": null,
            "grid_template_columns": null,
            "flex": null,
            "_model_name": "LayoutModel",
            "justify_items": null,
            "grid_row": null,
            "max_height": null,
            "align_content": null,
            "visibility": null,
            "align_self": null,
            "height": null,
            "min_height": null,
            "padding": null,
            "grid_auto_rows": null,
            "grid_gap": null,
            "max_width": null,
            "order": null,
            "_view_module_version": "1.2.0",
            "grid_template_areas": null,
            "object_position": null,
            "object_fit": null,
            "grid_auto_columns": null,
            "margin": null,
            "display": null,
            "left": null
          }
        }
      }
    }
  },
  "cells": [
    {
      "cell_type": "code",
      "metadata": {
        "id": "hJcJtRYV2Gg2",
        "colab_type": "code",
        "outputId": "1da6e577-be83-491f-dc61-5f370c6d8206",
        "colab": {
          "base_uri": "https://localhost:8080/",
          "height": 34
        }
      },
      "source": [
        "import tensorflow as tf\n",
        "\n",
        "# Get the GPU device name.\n",
        "device_name = tf.test.gpu_device_name()\n",
        "\n",
        "# The device name should look like the following:\n",
        "if device_name == '/device:GPU:0':\n",
        "    print('Found GPU at: {}'.format(device_name))\n",
        "else:\n",
        "    raise SystemError('GPU device not found')"
      ],
      "execution_count": 2,
      "outputs": [
        {
          "output_type": "stream",
          "text": [
            "Found GPU at: /device:GPU:0\n"
          ],
          "name": "stdout"
        }
      ]
    },
    {
      "cell_type": "code",
      "metadata": {
        "id": "fyYG1Y2F2TCK",
        "colab_type": "code",
        "outputId": "7f049a98-faa3-4b81-bfd4-1c1408adfad3",
        "colab": {
          "base_uri": "https://localhost:8080/",
          "height": 51
        }
      },
      "source": [
        "import torch\n",
        "\n",
        "# If there's a GPU available...\n",
        "if torch.cuda.is_available():    \n",
        "\n",
        "    # Tell PyTorch to use the GPU.    \n",
        "    device = torch.device(\"cuda\")\n",
        "\n",
        "    print('There are %d GPU(s) available.' % torch.cuda.device_count())\n",
        "\n",
        "    print('We will use the GPU:', torch.cuda.get_device_name(0))\n",
        "\n",
        "# If not...\n",
        "else:\n",
        "    print('No GPU available, using the CPU instead.')\n",
        "    device = torch.device(\"cpu\")"
      ],
      "execution_count": 3,
      "outputs": [
        {
          "output_type": "stream",
          "text": [
            "There are 1 GPU(s) available.\n",
            "We will use the GPU: Tesla T4\n"
          ],
          "name": "stdout"
        }
      ]
    },
    {
      "cell_type": "code",
      "metadata": {
        "id": "D9ALpn9n2W9m",
        "colab_type": "code",
        "outputId": "36466d6d-8a5b-4cea-8571-1366b5c6b2b1",
        "colab": {
          "base_uri": "https://localhost:8080/",
          "height": 683
        }
      },
      "source": [
        "!pip install transformers"
      ],
      "execution_count": 4,
      "outputs": [
        {
          "output_type": "stream",
          "text": [
            "Collecting transformers\n",
            "\u001b[?25l  Downloading https://files.pythonhosted.org/packages/a3/78/92cedda05552398352ed9784908b834ee32a0bd071a9b32de287327370b7/transformers-2.8.0-py3-none-any.whl (563kB)\n",
            "\r\u001b[K     |▋                               | 10kB 10.1MB/s eta 0:00:01\r\u001b[K     |█▏                              | 20kB 6.1MB/s eta 0:00:01\r\u001b[K     |█▊                              | 30kB 8.3MB/s eta 0:00:01\r\u001b[K     |██▎                             | 40kB 10.4MB/s eta 0:00:01\r\u001b[K     |███                             | 51kB 7.2MB/s eta 0:00:01\r\u001b[K     |███▌                            | 61kB 8.4MB/s eta 0:00:01\r\u001b[K     |████                            | 71kB 9.6MB/s eta 0:00:01\r\u001b[K     |████▋                           | 81kB 10.7MB/s eta 0:00:01\r\u001b[K     |█████▎                          | 92kB 8.4MB/s eta 0:00:01\r\u001b[K     |█████▉                          | 102kB 9.1MB/s eta 0:00:01\r\u001b[K     |██████▍                         | 112kB 9.1MB/s eta 0:00:01\r\u001b[K     |███████                         | 122kB 9.1MB/s eta 0:00:01\r\u001b[K     |███████▋                        | 133kB 9.1MB/s eta 0:00:01\r\u001b[K     |████████▏                       | 143kB 9.1MB/s eta 0:00:01\r\u001b[K     |████████▊                       | 153kB 9.1MB/s eta 0:00:01\r\u001b[K     |█████████▎                      | 163kB 9.1MB/s eta 0:00:01\r\u001b[K     |█████████▉                      | 174kB 9.1MB/s eta 0:00:01\r\u001b[K     |██████████▌                     | 184kB 9.1MB/s eta 0:00:01\r\u001b[K     |███████████                     | 194kB 9.1MB/s eta 0:00:01\r\u001b[K     |███████████▋                    | 204kB 9.1MB/s eta 0:00:01\r\u001b[K     |████████████▏                   | 215kB 9.1MB/s eta 0:00:01\r\u001b[K     |████████████▉                   | 225kB 9.1MB/s eta 0:00:01\r\u001b[K     |█████████████▍                  | 235kB 9.1MB/s eta 0:00:01\r\u001b[K     |██████████████                  | 245kB 9.1MB/s eta 0:00:01\r\u001b[K     |██████████████▌                 | 256kB 9.1MB/s eta 0:00:01\r\u001b[K     |███████████████▏                | 266kB 9.1MB/s eta 0:00:01\r\u001b[K     |███████████████▊                | 276kB 9.1MB/s eta 0:00:01\r\u001b[K     |████████████████▎               | 286kB 9.1MB/s eta 0:00:01\r\u001b[K     |████████████████▉               | 296kB 9.1MB/s eta 0:00:01\r\u001b[K     |█████████████████▍              | 307kB 9.1MB/s eta 0:00:01\r\u001b[K     |██████████████████              | 317kB 9.1MB/s eta 0:00:01\r\u001b[K     |██████████████████▋             | 327kB 9.1MB/s eta 0:00:01\r\u001b[K     |███████████████████▏            | 337kB 9.1MB/s eta 0:00:01\r\u001b[K     |███████████████████▊            | 348kB 9.1MB/s eta 0:00:01\r\u001b[K     |████████████████████▍           | 358kB 9.1MB/s eta 0:00:01\r\u001b[K     |█████████████████████           | 368kB 9.1MB/s eta 0:00:01\r\u001b[K     |█████████████████████▌          | 378kB 9.1MB/s eta 0:00:01\r\u001b[K     |██████████████████████          | 389kB 9.1MB/s eta 0:00:01\r\u001b[K     |██████████████████████▊         | 399kB 9.1MB/s eta 0:00:01\r\u001b[K     |███████████████████████▎        | 409kB 9.1MB/s eta 0:00:01\r\u001b[K     |███████████████████████▉        | 419kB 9.1MB/s eta 0:00:01\r\u001b[K     |████████████████████████▍       | 430kB 9.1MB/s eta 0:00:01\r\u001b[K     |█████████████████████████       | 440kB 9.1MB/s eta 0:00:01\r\u001b[K     |█████████████████████████▋      | 450kB 9.1MB/s eta 0:00:01\r\u001b[K     |██████████████████████████▏     | 460kB 9.1MB/s eta 0:00:01\r\u001b[K     |██████████████████████████▊     | 471kB 9.1MB/s eta 0:00:01\r\u001b[K     |███████████████████████████▎    | 481kB 9.1MB/s eta 0:00:01\r\u001b[K     |████████████████████████████    | 491kB 9.1MB/s eta 0:00:01\r\u001b[K     |████████████████████████████▌   | 501kB 9.1MB/s eta 0:00:01\r\u001b[K     |█████████████████████████████   | 512kB 9.1MB/s eta 0:00:01\r\u001b[K     |█████████████████████████████▋  | 522kB 9.1MB/s eta 0:00:01\r\u001b[K     |██████████████████████████████▎ | 532kB 9.1MB/s eta 0:00:01\r\u001b[K     |██████████████████████████████▉ | 542kB 9.1MB/s eta 0:00:01\r\u001b[K     |███████████████████████████████▍| 552kB 9.1MB/s eta 0:00:01\r\u001b[K     |████████████████████████████████| 563kB 9.1MB/s eta 0:00:01\r\u001b[K     |████████████████████████████████| 573kB 9.1MB/s \n",
            "\u001b[?25hRequirement already satisfied: filelock in /usr/local/lib/python3.6/dist-packages (from transformers) (3.0.12)\n",
            "Requirement already satisfied: tqdm>=4.27 in /usr/local/lib/python3.6/dist-packages (from transformers) (4.38.0)\n",
            "Requirement already satisfied: regex!=2019.12.17 in /usr/local/lib/python3.6/dist-packages (from transformers) (2019.12.20)\n",
            "Requirement already satisfied: numpy in /usr/local/lib/python3.6/dist-packages (from transformers) (1.18.2)\n",
            "Collecting sentencepiece\n",
            "\u001b[?25l  Downloading https://files.pythonhosted.org/packages/74/f4/2d5214cbf13d06e7cb2c20d84115ca25b53ea76fa1f0ade0e3c9749de214/sentencepiece-0.1.85-cp36-cp36m-manylinux1_x86_64.whl (1.0MB)\n",
            "\r\u001b[K     |▎                               | 10kB 27.0MB/s eta 0:00:01\r\u001b[K     |▋                               | 20kB 36.9MB/s eta 0:00:01\r\u001b[K     |█                               | 30kB 45.0MB/s eta 0:00:01\r\u001b[K     |█▎                              | 40kB 50.2MB/s eta 0:00:01\r\u001b[K     |█▋                              | 51kB 53.0MB/s eta 0:00:01\r\u001b[K     |██                              | 61kB 56.4MB/s eta 0:00:01\r\u001b[K     |██▏                             | 71kB 57.0MB/s eta 0:00:01\r\u001b[K     |██▌                             | 81kB 57.8MB/s eta 0:00:01\r\u001b[K     |██▉                             | 92kB 58.5MB/s eta 0:00:01\r\u001b[K     |███▏                            | 102kB 59.7MB/s eta 0:00:01\r\u001b[K     |███▌                            | 112kB 59.7MB/s eta 0:00:01\r\u001b[K     |███▉                            | 122kB 59.7MB/s eta 0:00:01\r\u001b[K     |████                            | 133kB 59.7MB/s eta 0:00:01\r\u001b[K     |████▍                           | 143kB 59.7MB/s eta 0:00:01\r\u001b[K     |████▊                           | 153kB 59.7MB/s eta 0:00:01\r\u001b[K     |█████                           | 163kB 59.7MB/s eta 0:00:01\r\u001b[K     |█████▍                          | 174kB 59.7MB/s eta 0:00:01\r\u001b[K     |█████▊                          | 184kB 59.7MB/s eta 0:00:01\r\u001b[K     |██████                          | 194kB 59.7MB/s eta 0:00:01\r\u001b[K     |██████▎                         | 204kB 59.7MB/s eta 0:00:01\r\u001b[K     |██████▋                         | 215kB 59.7MB/s eta 0:00:01\r\u001b[K     |███████                         | 225kB 59.7MB/s eta 0:00:01\r\u001b[K     |███████▎                        | 235kB 59.7MB/s eta 0:00:01\r\u001b[K     |███████▋                        | 245kB 59.7MB/s eta 0:00:01\r\u001b[K     |███████▉                        | 256kB 59.7MB/s eta 0:00:01\r\u001b[K     |████████▏                       | 266kB 59.7MB/s eta 0:00:01\r\u001b[K     |████████▌                       | 276kB 59.7MB/s eta 0:00:01\r\u001b[K     |████████▉                       | 286kB 59.7MB/s eta 0:00:01\r\u001b[K     |█████████▏                      | 296kB 59.7MB/s eta 0:00:01\r\u001b[K     |█████████▌                      | 307kB 59.7MB/s eta 0:00:01\r\u001b[K     |█████████▊                      | 317kB 59.7MB/s eta 0:00:01\r\u001b[K     |██████████                      | 327kB 59.7MB/s eta 0:00:01\r\u001b[K     |██████████▍                     | 337kB 59.7MB/s eta 0:00:01\r\u001b[K     |██████████▊                     | 348kB 59.7MB/s eta 0:00:01\r\u001b[K     |███████████                     | 358kB 59.7MB/s eta 0:00:01\r\u001b[K     |███████████▍                    | 368kB 59.7MB/s eta 0:00:01\r\u001b[K     |███████████▋                    | 378kB 59.7MB/s eta 0:00:01\r\u001b[K     |████████████                    | 389kB 59.7MB/s eta 0:00:01\r\u001b[K     |████████████▎                   | 399kB 59.7MB/s eta 0:00:01\r\u001b[K     |████████████▋                   | 409kB 59.7MB/s eta 0:00:01\r\u001b[K     |█████████████                   | 419kB 59.7MB/s eta 0:00:01\r\u001b[K     |█████████████▎                  | 430kB 59.7MB/s eta 0:00:01\r\u001b[K     |█████████████▌                  | 440kB 59.7MB/s eta 0:00:01\r\u001b[K     |█████████████▉                  | 450kB 59.7MB/s eta 0:00:01\r\u001b[K     |██████████████▏                 | 460kB 59.7MB/s eta 0:00:01\r\u001b[K     |██████████████▌                 | 471kB 59.7MB/s eta 0:00:01\r\u001b[K     |██████████████▉                 | 481kB 59.7MB/s eta 0:00:01\r\u001b[K     |███████████████▏                | 491kB 59.7MB/s eta 0:00:01\r\u001b[K     |███████████████▍                | 501kB 59.7MB/s eta 0:00:01\r\u001b[K     |███████████████▊                | 512kB 59.7MB/s eta 0:00:01\r\u001b[K     |████████████████                | 522kB 59.7MB/s eta 0:00:01\r\u001b[K     |████████████████▍               | 532kB 59.7MB/s eta 0:00:01\r\u001b[K     |████████████████▊               | 542kB 59.7MB/s eta 0:00:01\r\u001b[K     |█████████████████               | 552kB 59.7MB/s eta 0:00:01\r\u001b[K     |█████████████████▎              | 563kB 59.7MB/s eta 0:00:01\r\u001b[K     |█████████████████▋              | 573kB 59.7MB/s eta 0:00:01\r\u001b[K     |██████████████████              | 583kB 59.7MB/s eta 0:00:01\r\u001b[K     |██████████████████▎             | 593kB 59.7MB/s eta 0:00:01\r\u001b[K     |██████████████████▋             | 604kB 59.7MB/s eta 0:00:01\r\u001b[K     |███████████████████             | 614kB 59.7MB/s eta 0:00:01\r\u001b[K     |███████████████████▏            | 624kB 59.7MB/s eta 0:00:01\r\u001b[K     |███████████████████▌            | 634kB 59.7MB/s eta 0:00:01\r\u001b[K     |███████████████████▉            | 645kB 59.7MB/s eta 0:00:01\r\u001b[K     |████████████████████▏           | 655kB 59.7MB/s eta 0:00:01\r\u001b[K     |████████████████████▌           | 665kB 59.7MB/s eta 0:00:01\r\u001b[K     |████████████████████▉           | 675kB 59.7MB/s eta 0:00:01\r\u001b[K     |█████████████████████▏          | 686kB 59.7MB/s eta 0:00:01\r\u001b[K     |█████████████████████▍          | 696kB 59.7MB/s eta 0:00:01\r\u001b[K     |█████████████████████▊          | 706kB 59.7MB/s eta 0:00:01\r\u001b[K     |██████████████████████          | 716kB 59.7MB/s eta 0:00:01\r\u001b[K     |██████████████████████▍         | 727kB 59.7MB/s eta 0:00:01\r\u001b[K     |██████████████████████▊         | 737kB 59.7MB/s eta 0:00:01\r\u001b[K     |███████████████████████         | 747kB 59.7MB/s eta 0:00:01\r\u001b[K     |███████████████████████▎        | 757kB 59.7MB/s eta 0:00:01\r\u001b[K     |███████████████████████▋        | 768kB 59.7MB/s eta 0:00:01\r\u001b[K     |████████████████████████        | 778kB 59.7MB/s eta 0:00:01\r\u001b[K     |████████████████████████▎       | 788kB 59.7MB/s eta 0:00:01\r\u001b[K     |████████████████████████▋       | 798kB 59.7MB/s eta 0:00:01\r\u001b[K     |█████████████████████████       | 808kB 59.7MB/s eta 0:00:01\r\u001b[K     |█████████████████████████▏      | 819kB 59.7MB/s eta 0:00:01\r\u001b[K     |█████████████████████████▌      | 829kB 59.7MB/s eta 0:00:01\r\u001b[K     |█████████████████████████▉      | 839kB 59.7MB/s eta 0:00:01\r\u001b[K     |██████████████████████████▏     | 849kB 59.7MB/s eta 0:00:01\r\u001b[K     |██████████████████████████▌     | 860kB 59.7MB/s eta 0:00:01\r\u001b[K     |██████████████████████████▉     | 870kB 59.7MB/s eta 0:00:01\r\u001b[K     |███████████████████████████     | 880kB 59.7MB/s eta 0:00:01\r\u001b[K     |███████████████████████████▍    | 890kB 59.7MB/s eta 0:00:01\r\u001b[K     |███████████████████████████▊    | 901kB 59.7MB/s eta 0:00:01\r\u001b[K     |████████████████████████████    | 911kB 59.7MB/s eta 0:00:01\r\u001b[K     |████████████████████████████▍   | 921kB 59.7MB/s eta 0:00:01\r\u001b[K     |████████████████████████████▊   | 931kB 59.7MB/s eta 0:00:01\r\u001b[K     |█████████████████████████████   | 942kB 59.7MB/s eta 0:00:01\r\u001b[K     |█████████████████████████████▎  | 952kB 59.7MB/s eta 0:00:01\r\u001b[K     |█████████████████████████████▋  | 962kB 59.7MB/s eta 0:00:01\r\u001b[K     |██████████████████████████████  | 972kB 59.7MB/s eta 0:00:01\r\u001b[K     |██████████████████████████████▎ | 983kB 59.7MB/s eta 0:00:01\r\u001b[K     |██████████████████████████████▋ | 993kB 59.7MB/s eta 0:00:01\r\u001b[K     |██████████████████████████████▉ | 1.0MB 59.7MB/s eta 0:00:01\r\u001b[K     |███████████████████████████████▏| 1.0MB 59.7MB/s eta 0:00:01\r\u001b[K     |███████████████████████████████▌| 1.0MB 59.7MB/s eta 0:00:01\r\u001b[K     |███████████████████████████████▉| 1.0MB 59.7MB/s eta 0:00:01\r\u001b[K     |████████████████████████████████| 1.0MB 59.7MB/s \n",
            "\u001b[?25hRequirement already satisfied: dataclasses; python_version < \"3.7\" in /usr/local/lib/python3.6/dist-packages (from transformers) (0.7)\n",
            "Requirement already satisfied: requests in /usr/local/lib/python3.6/dist-packages (from transformers) (2.21.0)\n",
            "Collecting tokenizers==0.5.2\n",
            "\u001b[?25l  Downloading https://files.pythonhosted.org/packages/d1/3f/73c881ea4723e43c1e9acf317cf407fab3a278daab3a69c98dcac511c04f/tokenizers-0.5.2-cp36-cp36m-manylinux1_x86_64.whl (3.7MB)\n",
            "\u001b[K     |████████████████████████████████| 3.7MB 53.0MB/s \n",
            "\u001b[?25hCollecting sacremoses\n",
            "\u001b[?25l  Downloading https://files.pythonhosted.org/packages/99/50/93509f906a40bffd7d175f97fd75ea328ad9bd91f48f59c4bd084c94a25e/sacremoses-0.0.41.tar.gz (883kB)\n",
            "\u001b[K     |████████████████████████████████| 890kB 60.7MB/s \n",
            "\u001b[?25hRequirement already satisfied: boto3 in /usr/local/lib/python3.6/dist-packages (from transformers) (1.12.39)\n",
            "Requirement already satisfied: certifi>=2017.4.17 in /usr/local/lib/python3.6/dist-packages (from requests->transformers) (2020.4.5.1)\n",
            "Requirement already satisfied: urllib3<1.25,>=1.21.1 in /usr/local/lib/python3.6/dist-packages (from requests->transformers) (1.24.3)\n",
            "Requirement already satisfied: chardet<3.1.0,>=3.0.2 in /usr/local/lib/python3.6/dist-packages (from requests->transformers) (3.0.4)\n",
            "Requirement already satisfied: idna<2.9,>=2.5 in /usr/local/lib/python3.6/dist-packages (from requests->transformers) (2.8)\n",
            "Requirement already satisfied: six in /usr/local/lib/python3.6/dist-packages (from sacremoses->transformers) (1.12.0)\n",
            "Requirement already satisfied: click in /usr/local/lib/python3.6/dist-packages (from sacremoses->transformers) (7.1.1)\n",
            "Requirement already satisfied: joblib in /usr/local/lib/python3.6/dist-packages (from sacremoses->transformers) (0.14.1)\n",
            "Requirement already satisfied: botocore<1.16.0,>=1.15.39 in /usr/local/lib/python3.6/dist-packages (from boto3->transformers) (1.15.39)\n",
            "Requirement already satisfied: s3transfer<0.4.0,>=0.3.0 in /usr/local/lib/python3.6/dist-packages (from boto3->transformers) (0.3.3)\n",
            "Requirement already satisfied: jmespath<1.0.0,>=0.7.1 in /usr/local/lib/python3.6/dist-packages (from boto3->transformers) (0.9.5)\n",
            "Requirement already satisfied: docutils<0.16,>=0.10 in /usr/local/lib/python3.6/dist-packages (from botocore<1.16.0,>=1.15.39->boto3->transformers) (0.15.2)\n",
            "Requirement already satisfied: python-dateutil<3.0.0,>=2.1 in /usr/local/lib/python3.6/dist-packages (from botocore<1.16.0,>=1.15.39->boto3->transformers) (2.8.1)\n",
            "Building wheels for collected packages: sacremoses\n",
            "  Building wheel for sacremoses (setup.py) ... \u001b[?25l\u001b[?25hdone\n",
            "  Created wheel for sacremoses: filename=sacremoses-0.0.41-cp36-none-any.whl size=893334 sha256=3442dfc1ebd41914f429af8bed1d96f0c0a1524a22421ca71fa153e7674f1589\n",
            "  Stored in directory: /root/.cache/pip/wheels/22/5a/d4/b020a81249de7dc63758a34222feaa668dbe8ebfe9170cc9b1\n",
            "Successfully built sacremoses\n",
            "Installing collected packages: sentencepiece, tokenizers, sacremoses, transformers\n",
            "Successfully installed sacremoses-0.0.41 sentencepiece-0.1.85 tokenizers-0.5.2 transformers-2.8.0\n"
          ],
          "name": "stdout"
        }
      ]
    },
    {
      "cell_type": "code",
      "metadata": {
        "id": "zo0wjJ6e2agM",
        "colab_type": "code",
        "colab": {}
      },
      "source": [
        "import os\n",
        "import json\n",
        "import tensorflow as tf\n",
        "from tensorflow import keras\n",
        "import numpy as np\n",
        "from io import BytesIO\n",
        "from zipfile import ZipFile\n",
        "from urllib.request import urlopen\n",
        "from tqdm import tqdm"
      ],
      "execution_count": 0,
      "outputs": []
    },
    {
      "cell_type": "code",
      "metadata": {
        "id": "al-tToI72dBE",
        "colab_type": "code",
        "colab": {}
      },
      "source": [
        "sen1_test = []\n",
        "sen2_test = []\n",
        "res_test = []\n",
        "sen1_train = []\n",
        "sen2_train = []\n",
        "res_train = []\n",
        "resp = urlopen(\"https://nlp.stanford.edu/projects/snli/snli_1.0.zip\")\n",
        "zipfile = ZipFile(BytesIO(resp.read()))\n",
        "for line in zipfile.open('snli_1.0/snli_1.0_train.jsonl').readlines():\n",
        "    x = json.loads(line)\n",
        "    k = 0\n",
        "    y = -1\n",
        "    if x['gold_label'] == \"contradiction\":\n",
        "        y = 0\n",
        "        k = 1\n",
        "    elif x['gold_label'] == \"neutral\":\n",
        "        y = 1\n",
        "        k = 1\n",
        "    elif x['gold_label'] == \"entailment\":\n",
        "        y = 2\n",
        "        k = 1\n",
        "    if k==1:\n",
        "        sen1_train.append(x['sentence1'].lower())\n",
        "        sen2_train.append(x['sentence2'].lower())\n",
        "        res_train.append(y)\n",
        "for line in zipfile.open('snli_1.0/snli_1.0_test.jsonl').readlines():\n",
        "    x = json.loads(line)\n",
        "    k = 0\n",
        "    y = -1\n",
        "    if x['gold_label'] == \"contradiction\":\n",
        "        y = 0\n",
        "        k = 1\n",
        "    elif x['gold_label'] == \"neutral\":\n",
        "        y = 1\n",
        "        k = 1\n",
        "    elif x['gold_label'] == \"entailment\":\n",
        "        y = 2\n",
        "        k = 1\n",
        "    if k==1:\n",
        "        sen1_test.append(x['sentence1'].lower())\n",
        "        sen2_test.append(x['sentence2'].lower())\n",
        "        res_test.append(y)"
      ],
      "execution_count": 0,
      "outputs": []
    },
    {
      "cell_type": "code",
      "metadata": {
        "id": "U_rol33v2e3q",
        "colab_type": "code",
        "outputId": "23826362-b37a-41dc-f8fb-4a5a32912193",
        "colab": {
          "base_uri": "https://localhost:8080/",
          "height": 173
        }
      },
      "source": [
        "print(len(res_train))\n",
        "print(sen1_train[0])\n",
        "print(sen2_train[0])\n",
        "print(res_train[0])\n",
        "print(len(res_test))\n",
        "print(sen1_test[0])\n",
        "print(sen2_test[0])\n",
        "print(res_test[0])"
      ],
      "execution_count": 7,
      "outputs": [
        {
          "output_type": "stream",
          "text": [
            "549367\n",
            "a person on a horse jumps over a broken down airplane.\n",
            "a person is training his horse for a competition.\n",
            "1\n",
            "9824\n",
            "this church choir sings to the masses as they sing joyous songs from the book at a church.\n",
            "the church has cracks in the ceiling.\n",
            "1\n"
          ],
          "name": "stdout"
        }
      ]
    },
    {
      "cell_type": "code",
      "metadata": {
        "id": "K8uExtz32jZG",
        "colab_type": "code",
        "outputId": "46c4d014-cc78-4bfa-b3f3-b6e5eea2615f",
        "colab": {
          "base_uri": "https://localhost:8080/",
          "height": 83,
          "referenced_widgets": [
            "28ac64da96d4468b9dcb7fd5822e2da7",
            "ad0e6eae52824594adb04c0b56ce40d9",
            "6beaa84b77c44359a6065eac9a78ecd0",
            "f97442819b534f6e8f76b3f474346a8b",
            "ee43015b4ce84d5ab31e88d8f6d233c2",
            "80860433f89549989495a444b653fb8f",
            "55d52326909b454d97bdc51fc649061a",
            "3f176e25a2484df795e99e301c90c728"
          ]
        }
      },
      "source": [
        "from transformers import BertTokenizer\n",
        "\n",
        "# Load the BERT tokenizer.\n",
        "print('Loading BERT tokenizer...')\n",
        "tokenizer = BertTokenizer.from_pretrained('bert-base-uncased', do_lower_case=True)"
      ],
      "execution_count": 8,
      "outputs": [
        {
          "output_type": "stream",
          "text": [
            "Loading BERT tokenizer...\n"
          ],
          "name": "stdout"
        },
        {
          "output_type": "display_data",
          "data": {
            "application/vnd.jupyter.widget-view+json": {
              "model_id": "28ac64da96d4468b9dcb7fd5822e2da7",
              "version_minor": 0,
              "version_major": 2
            },
            "text/plain": [
              "HBox(children=(IntProgress(value=0, description='Downloading', max=231508, style=ProgressStyle(description_wid…"
            ]
          },
          "metadata": {
            "tags": []
          }
        },
        {
          "output_type": "stream",
          "text": [
            "\n"
          ],
          "name": "stdout"
        }
      ]
    },
    {
      "cell_type": "code",
      "metadata": {
        "id": "T6IA6TU8zECH",
        "colab_type": "code",
        "colab": {}
      },
      "source": [
        "MAX_LENGTH = 64\n",
        "VALIDATION_SIZE = 0.95\n",
        "BATCH_SIZE = 128\n",
        "EPOCHS = 3"
      ],
      "execution_count": 0,
      "outputs": []
    },
    {
      "cell_type": "code",
      "metadata": {
        "id": "xtL1_nd52k1L",
        "colab_type": "code",
        "colab": {}
      },
      "source": [
        "input_ids = []\n",
        "attention_masks = []\n",
        "\n",
        "# For every sentence...\n",
        "for i in range(len(res_train)):\n",
        "    # `encode_plus` will:\n",
        "    #   (1) Tokenize the sentence.\n",
        "    #   (2) Prepend the `[CLS]` token to the start.\n",
        "    #   (3) Append the `[SEP]` token to the end.\n",
        "    #   (4) Map tokens to their IDs.\n",
        "    #   (5) Pad or truncate the sentence to `max_length`\n",
        "    #   (6) Create attention masks for [PAD] tokens.\n",
        "    encoded_dict = tokenizer.encode_plus(\n",
        "                        sen1_train[i],\n",
        "                        sen2_train[i],\n",
        "                        max_length = MAX_LENGTH,           # Pad & truncate all sentences.\n",
        "                        pad_to_max_length = True,\n",
        "                        return_attention_mask = True,   # Construct attn. masks.\n",
        "                        return_tensors = 'pt',     # Return pytorch tensors.\n",
        "                   )\n",
        "    \n",
        "    # Add the encoded sentence to the list.    \n",
        "    input_ids.append(encoded_dict['input_ids'])\n",
        "    \n",
        "    # And its attention mask (simply differentiates padding from non-padding).\n",
        "    attention_masks.append(encoded_dict['attention_mask'])\n",
        "\n",
        "# Convert the lists into tensors.\n",
        "input_ids = torch.cat(input_ids, dim=0)\n",
        "attention_masks = torch.cat(attention_masks, dim=0)\n",
        "res_train = torch.tensor(res_train)"
      ],
      "execution_count": 0,
      "outputs": []
    },
    {
      "cell_type": "code",
      "metadata": {
        "id": "GQIENEVf2xWO",
        "colab_type": "code",
        "outputId": "4bf89e7c-da0c-42cb-9926-a7d11b490d42",
        "colab": {
          "base_uri": "https://localhost:8080/",
          "height": 51
        }
      },
      "source": [
        "from torch.utils.data import TensorDataset, random_split\n",
        "\n",
        "# Combine the training inputs into a TensorDataset.\n",
        "dataset = TensorDataset(input_ids, attention_masks, res_train)\n",
        "\n",
        "# Create a 90-10 train-validation split.\n",
        "\n",
        "# Calculate the number of samples to include in each set.\n",
        "train_size = int(VALIDATION_SIZE * len(dataset))\n",
        "val_size = len(dataset) - train_size\n",
        "\n",
        "# Divide the dataset by randomly selecting samples.\n",
        "train_dataset, val_dataset = random_split(dataset, [train_size, val_size])\n",
        "\n",
        "print('{:>5,} training samples'.format(train_size))\n",
        "print('{:>5,} validation samples'.format(val_size))"
      ],
      "execution_count": 11,
      "outputs": [
        {
          "output_type": "stream",
          "text": [
            "521,898 training samples\n",
            "27,469 validation samples\n"
          ],
          "name": "stdout"
        }
      ]
    },
    {
      "cell_type": "code",
      "metadata": {
        "id": "XMidi2A93D3m",
        "colab_type": "code",
        "colab": {}
      },
      "source": [
        "from torch.utils.data import DataLoader, RandomSampler, SequentialSampler\n",
        "\n",
        "# The DataLoader needs to know our batch size for training, so we specify it \n",
        "# here. For fine-tuning BERT on a specific task, the authors recommend a batch \n",
        "# size of 16 or 32.\n",
        "batch_size = BATCH_SIZE\n",
        "\n",
        "# Create the DataLoaders for our training and validation sets.\n",
        "# We'll take training samples in random order. \n",
        "train_dataloader = DataLoader(\n",
        "            train_dataset,  # The training samples.\n",
        "            sampler = RandomSampler(train_dataset), # Select batches randomly\n",
        "            batch_size = batch_size # Trains with this batch size.\n",
        "        )\n",
        "\n",
        "# For validation the order doesn't matter, so we'll just read them sequentially.\n",
        "validation_dataloader = DataLoader(\n",
        "            val_dataset, # The validation samples.\n",
        "            sampler = SequentialSampler(val_dataset), # Pull out batches sequentially.\n",
        "            batch_size = batch_size # Evaluate with this batch size.\n",
        "        )"
      ],
      "execution_count": 0,
      "outputs": []
    },
    {
      "cell_type": "code",
      "metadata": {
        "id": "g5RMoPnK3G-3",
        "colab_type": "code",
        "outputId": "e9f0a412-1bb4-48e9-c81e-7dc0b6ac0d2e",
        "colab": {
          "base_uri": "https://localhost:8080/",
          "height": 1000,
          "referenced_widgets": [
            "7406d646e6ff4a5a8dd110f83f925149",
            "9760aacf6bc44648a912336f52b82dae",
            "02b27e3519424cf082e1da570ba7905b",
            "a8cb7967a75c4f308a886ab340b998c5",
            "8bd6fa6a0dee4065a6b48ff0f0edc7be",
            "44f9a91c0c244a53b480f6a73d8502cd",
            "c69e67120c7243ab8680f46c96c037e3",
            "38ee5be8b26643da98924743456a52da",
            "fbce8d85471e44e1be28b146b7fd98f5",
            "ce0485f816a54468976e3aa8ef4cf3c4",
            "e0c7e543fae74fb5b20f942022c88b08",
            "d0e2c6ed79964dceac19de297671e4cd",
            "d5c697f48d914ff592597b314fe764dd",
            "2d0874cc27d84570bc32ea73b3f47d4f",
            "ad7f715a393a40008963b032b1262e5b",
            "9cd7ba36337b41a285d096ae9eeea79c"
          ]
        }
      },
      "source": [
        "from transformers import BertForSequenceClassification, AdamW, BertConfig\n",
        "\n",
        "# Load BertForSequenceClassification, the pretrained BERT model with a single \n",
        "# linear classification layer on top. \n",
        "model = BertForSequenceClassification.from_pretrained(\n",
        "    \"bert-base-uncased\", # Use the 12-layer BERT model, with an uncased vocab.\n",
        "    num_labels = 3, # The number of output labels--2 for binary classification.\n",
        "                    # You can increase this for multi-class tasks.   \n",
        "    output_attentions = False, # Whether the model returns attentions weights.\n",
        "    output_hidden_states = False, # Whether the model returns all hidden-states.\n",
        ")\n",
        "\n",
        "# Tell pytorch to run this model on the GPU.\n",
        "model.cuda()"
      ],
      "execution_count": 13,
      "outputs": [
        {
          "output_type": "display_data",
          "data": {
            "application/vnd.jupyter.widget-view+json": {
              "model_id": "7406d646e6ff4a5a8dd110f83f925149",
              "version_minor": 0,
              "version_major": 2
            },
            "text/plain": [
              "HBox(children=(IntProgress(value=0, description='Downloading', max=361, style=ProgressStyle(description_width=…"
            ]
          },
          "metadata": {
            "tags": []
          }
        },
        {
          "output_type": "stream",
          "text": [
            "\n"
          ],
          "name": "stdout"
        },
        {
          "output_type": "display_data",
          "data": {
            "application/vnd.jupyter.widget-view+json": {
              "model_id": "fbce8d85471e44e1be28b146b7fd98f5",
              "version_minor": 0,
              "version_major": 2
            },
            "text/plain": [
              "HBox(children=(IntProgress(value=0, description='Downloading', max=440473133, style=ProgressStyle(description_…"
            ]
          },
          "metadata": {
            "tags": []
          }
        },
        {
          "output_type": "stream",
          "text": [
            "\n"
          ],
          "name": "stdout"
        },
        {
          "output_type": "execute_result",
          "data": {
            "text/plain": [
              "BertForSequenceClassification(\n",
              "  (bert): BertModel(\n",
              "    (embeddings): BertEmbeddings(\n",
              "      (word_embeddings): Embedding(30522, 768, padding_idx=0)\n",
              "      (position_embeddings): Embedding(512, 768)\n",
              "      (token_type_embeddings): Embedding(2, 768)\n",
              "      (LayerNorm): LayerNorm((768,), eps=1e-12, elementwise_affine=True)\n",
              "      (dropout): Dropout(p=0.1, inplace=False)\n",
              "    )\n",
              "    (encoder): BertEncoder(\n",
              "      (layer): ModuleList(\n",
              "        (0): BertLayer(\n",
              "          (attention): BertAttention(\n",
              "            (self): BertSelfAttention(\n",
              "              (query): Linear(in_features=768, out_features=768, bias=True)\n",
              "              (key): Linear(in_features=768, out_features=768, bias=True)\n",
              "              (value): Linear(in_features=768, out_features=768, bias=True)\n",
              "              (dropout): Dropout(p=0.1, inplace=False)\n",
              "            )\n",
              "            (output): BertSelfOutput(\n",
              "              (dense): Linear(in_features=768, out_features=768, bias=True)\n",
              "              (LayerNorm): LayerNorm((768,), eps=1e-12, elementwise_affine=True)\n",
              "              (dropout): Dropout(p=0.1, inplace=False)\n",
              "            )\n",
              "          )\n",
              "          (intermediate): BertIntermediate(\n",
              "            (dense): Linear(in_features=768, out_features=3072, bias=True)\n",
              "          )\n",
              "          (output): BertOutput(\n",
              "            (dense): Linear(in_features=3072, out_features=768, bias=True)\n",
              "            (LayerNorm): LayerNorm((768,), eps=1e-12, elementwise_affine=True)\n",
              "            (dropout): Dropout(p=0.1, inplace=False)\n",
              "          )\n",
              "        )\n",
              "        (1): BertLayer(\n",
              "          (attention): BertAttention(\n",
              "            (self): BertSelfAttention(\n",
              "              (query): Linear(in_features=768, out_features=768, bias=True)\n",
              "              (key): Linear(in_features=768, out_features=768, bias=True)\n",
              "              (value): Linear(in_features=768, out_features=768, bias=True)\n",
              "              (dropout): Dropout(p=0.1, inplace=False)\n",
              "            )\n",
              "            (output): BertSelfOutput(\n",
              "              (dense): Linear(in_features=768, out_features=768, bias=True)\n",
              "              (LayerNorm): LayerNorm((768,), eps=1e-12, elementwise_affine=True)\n",
              "              (dropout): Dropout(p=0.1, inplace=False)\n",
              "            )\n",
              "          )\n",
              "          (intermediate): BertIntermediate(\n",
              "            (dense): Linear(in_features=768, out_features=3072, bias=True)\n",
              "          )\n",
              "          (output): BertOutput(\n",
              "            (dense): Linear(in_features=3072, out_features=768, bias=True)\n",
              "            (LayerNorm): LayerNorm((768,), eps=1e-12, elementwise_affine=True)\n",
              "            (dropout): Dropout(p=0.1, inplace=False)\n",
              "          )\n",
              "        )\n",
              "        (2): BertLayer(\n",
              "          (attention): BertAttention(\n",
              "            (self): BertSelfAttention(\n",
              "              (query): Linear(in_features=768, out_features=768, bias=True)\n",
              "              (key): Linear(in_features=768, out_features=768, bias=True)\n",
              "              (value): Linear(in_features=768, out_features=768, bias=True)\n",
              "              (dropout): Dropout(p=0.1, inplace=False)\n",
              "            )\n",
              "            (output): BertSelfOutput(\n",
              "              (dense): Linear(in_features=768, out_features=768, bias=True)\n",
              "              (LayerNorm): LayerNorm((768,), eps=1e-12, elementwise_affine=True)\n",
              "              (dropout): Dropout(p=0.1, inplace=False)\n",
              "            )\n",
              "          )\n",
              "          (intermediate): BertIntermediate(\n",
              "            (dense): Linear(in_features=768, out_features=3072, bias=True)\n",
              "          )\n",
              "          (output): BertOutput(\n",
              "            (dense): Linear(in_features=3072, out_features=768, bias=True)\n",
              "            (LayerNorm): LayerNorm((768,), eps=1e-12, elementwise_affine=True)\n",
              "            (dropout): Dropout(p=0.1, inplace=False)\n",
              "          )\n",
              "        )\n",
              "        (3): BertLayer(\n",
              "          (attention): BertAttention(\n",
              "            (self): BertSelfAttention(\n",
              "              (query): Linear(in_features=768, out_features=768, bias=True)\n",
              "              (key): Linear(in_features=768, out_features=768, bias=True)\n",
              "              (value): Linear(in_features=768, out_features=768, bias=True)\n",
              "              (dropout): Dropout(p=0.1, inplace=False)\n",
              "            )\n",
              "            (output): BertSelfOutput(\n",
              "              (dense): Linear(in_features=768, out_features=768, bias=True)\n",
              "              (LayerNorm): LayerNorm((768,), eps=1e-12, elementwise_affine=True)\n",
              "              (dropout): Dropout(p=0.1, inplace=False)\n",
              "            )\n",
              "          )\n",
              "          (intermediate): BertIntermediate(\n",
              "            (dense): Linear(in_features=768, out_features=3072, bias=True)\n",
              "          )\n",
              "          (output): BertOutput(\n",
              "            (dense): Linear(in_features=3072, out_features=768, bias=True)\n",
              "            (LayerNorm): LayerNorm((768,), eps=1e-12, elementwise_affine=True)\n",
              "            (dropout): Dropout(p=0.1, inplace=False)\n",
              "          )\n",
              "        )\n",
              "        (4): BertLayer(\n",
              "          (attention): BertAttention(\n",
              "            (self): BertSelfAttention(\n",
              "              (query): Linear(in_features=768, out_features=768, bias=True)\n",
              "              (key): Linear(in_features=768, out_features=768, bias=True)\n",
              "              (value): Linear(in_features=768, out_features=768, bias=True)\n",
              "              (dropout): Dropout(p=0.1, inplace=False)\n",
              "            )\n",
              "            (output): BertSelfOutput(\n",
              "              (dense): Linear(in_features=768, out_features=768, bias=True)\n",
              "              (LayerNorm): LayerNorm((768,), eps=1e-12, elementwise_affine=True)\n",
              "              (dropout): Dropout(p=0.1, inplace=False)\n",
              "            )\n",
              "          )\n",
              "          (intermediate): BertIntermediate(\n",
              "            (dense): Linear(in_features=768, out_features=3072, bias=True)\n",
              "          )\n",
              "          (output): BertOutput(\n",
              "            (dense): Linear(in_features=3072, out_features=768, bias=True)\n",
              "            (LayerNorm): LayerNorm((768,), eps=1e-12, elementwise_affine=True)\n",
              "            (dropout): Dropout(p=0.1, inplace=False)\n",
              "          )\n",
              "        )\n",
              "        (5): BertLayer(\n",
              "          (attention): BertAttention(\n",
              "            (self): BertSelfAttention(\n",
              "              (query): Linear(in_features=768, out_features=768, bias=True)\n",
              "              (key): Linear(in_features=768, out_features=768, bias=True)\n",
              "              (value): Linear(in_features=768, out_features=768, bias=True)\n",
              "              (dropout): Dropout(p=0.1, inplace=False)\n",
              "            )\n",
              "            (output): BertSelfOutput(\n",
              "              (dense): Linear(in_features=768, out_features=768, bias=True)\n",
              "              (LayerNorm): LayerNorm((768,), eps=1e-12, elementwise_affine=True)\n",
              "              (dropout): Dropout(p=0.1, inplace=False)\n",
              "            )\n",
              "          )\n",
              "          (intermediate): BertIntermediate(\n",
              "            (dense): Linear(in_features=768, out_features=3072, bias=True)\n",
              "          )\n",
              "          (output): BertOutput(\n",
              "            (dense): Linear(in_features=3072, out_features=768, bias=True)\n",
              "            (LayerNorm): LayerNorm((768,), eps=1e-12, elementwise_affine=True)\n",
              "            (dropout): Dropout(p=0.1, inplace=False)\n",
              "          )\n",
              "        )\n",
              "        (6): BertLayer(\n",
              "          (attention): BertAttention(\n",
              "            (self): BertSelfAttention(\n",
              "              (query): Linear(in_features=768, out_features=768, bias=True)\n",
              "              (key): Linear(in_features=768, out_features=768, bias=True)\n",
              "              (value): Linear(in_features=768, out_features=768, bias=True)\n",
              "              (dropout): Dropout(p=0.1, inplace=False)\n",
              "            )\n",
              "            (output): BertSelfOutput(\n",
              "              (dense): Linear(in_features=768, out_features=768, bias=True)\n",
              "              (LayerNorm): LayerNorm((768,), eps=1e-12, elementwise_affine=True)\n",
              "              (dropout): Dropout(p=0.1, inplace=False)\n",
              "            )\n",
              "          )\n",
              "          (intermediate): BertIntermediate(\n",
              "            (dense): Linear(in_features=768, out_features=3072, bias=True)\n",
              "          )\n",
              "          (output): BertOutput(\n",
              "            (dense): Linear(in_features=3072, out_features=768, bias=True)\n",
              "            (LayerNorm): LayerNorm((768,), eps=1e-12, elementwise_affine=True)\n",
              "            (dropout): Dropout(p=0.1, inplace=False)\n",
              "          )\n",
              "        )\n",
              "        (7): BertLayer(\n",
              "          (attention): BertAttention(\n",
              "            (self): BertSelfAttention(\n",
              "              (query): Linear(in_features=768, out_features=768, bias=True)\n",
              "              (key): Linear(in_features=768, out_features=768, bias=True)\n",
              "              (value): Linear(in_features=768, out_features=768, bias=True)\n",
              "              (dropout): Dropout(p=0.1, inplace=False)\n",
              "            )\n",
              "            (output): BertSelfOutput(\n",
              "              (dense): Linear(in_features=768, out_features=768, bias=True)\n",
              "              (LayerNorm): LayerNorm((768,), eps=1e-12, elementwise_affine=True)\n",
              "              (dropout): Dropout(p=0.1, inplace=False)\n",
              "            )\n",
              "          )\n",
              "          (intermediate): BertIntermediate(\n",
              "            (dense): Linear(in_features=768, out_features=3072, bias=True)\n",
              "          )\n",
              "          (output): BertOutput(\n",
              "            (dense): Linear(in_features=3072, out_features=768, bias=True)\n",
              "            (LayerNorm): LayerNorm((768,), eps=1e-12, elementwise_affine=True)\n",
              "            (dropout): Dropout(p=0.1, inplace=False)\n",
              "          )\n",
              "        )\n",
              "        (8): BertLayer(\n",
              "          (attention): BertAttention(\n",
              "            (self): BertSelfAttention(\n",
              "              (query): Linear(in_features=768, out_features=768, bias=True)\n",
              "              (key): Linear(in_features=768, out_features=768, bias=True)\n",
              "              (value): Linear(in_features=768, out_features=768, bias=True)\n",
              "              (dropout): Dropout(p=0.1, inplace=False)\n",
              "            )\n",
              "            (output): BertSelfOutput(\n",
              "              (dense): Linear(in_features=768, out_features=768, bias=True)\n",
              "              (LayerNorm): LayerNorm((768,), eps=1e-12, elementwise_affine=True)\n",
              "              (dropout): Dropout(p=0.1, inplace=False)\n",
              "            )\n",
              "          )\n",
              "          (intermediate): BertIntermediate(\n",
              "            (dense): Linear(in_features=768, out_features=3072, bias=True)\n",
              "          )\n",
              "          (output): BertOutput(\n",
              "            (dense): Linear(in_features=3072, out_features=768, bias=True)\n",
              "            (LayerNorm): LayerNorm((768,), eps=1e-12, elementwise_affine=True)\n",
              "            (dropout): Dropout(p=0.1, inplace=False)\n",
              "          )\n",
              "        )\n",
              "        (9): BertLayer(\n",
              "          (attention): BertAttention(\n",
              "            (self): BertSelfAttention(\n",
              "              (query): Linear(in_features=768, out_features=768, bias=True)\n",
              "              (key): Linear(in_features=768, out_features=768, bias=True)\n",
              "              (value): Linear(in_features=768, out_features=768, bias=True)\n",
              "              (dropout): Dropout(p=0.1, inplace=False)\n",
              "            )\n",
              "            (output): BertSelfOutput(\n",
              "              (dense): Linear(in_features=768, out_features=768, bias=True)\n",
              "              (LayerNorm): LayerNorm((768,), eps=1e-12, elementwise_affine=True)\n",
              "              (dropout): Dropout(p=0.1, inplace=False)\n",
              "            )\n",
              "          )\n",
              "          (intermediate): BertIntermediate(\n",
              "            (dense): Linear(in_features=768, out_features=3072, bias=True)\n",
              "          )\n",
              "          (output): BertOutput(\n",
              "            (dense): Linear(in_features=3072, out_features=768, bias=True)\n",
              "            (LayerNorm): LayerNorm((768,), eps=1e-12, elementwise_affine=True)\n",
              "            (dropout): Dropout(p=0.1, inplace=False)\n",
              "          )\n",
              "        )\n",
              "        (10): BertLayer(\n",
              "          (attention): BertAttention(\n",
              "            (self): BertSelfAttention(\n",
              "              (query): Linear(in_features=768, out_features=768, bias=True)\n",
              "              (key): Linear(in_features=768, out_features=768, bias=True)\n",
              "              (value): Linear(in_features=768, out_features=768, bias=True)\n",
              "              (dropout): Dropout(p=0.1, inplace=False)\n",
              "            )\n",
              "            (output): BertSelfOutput(\n",
              "              (dense): Linear(in_features=768, out_features=768, bias=True)\n",
              "              (LayerNorm): LayerNorm((768,), eps=1e-12, elementwise_affine=True)\n",
              "              (dropout): Dropout(p=0.1, inplace=False)\n",
              "            )\n",
              "          )\n",
              "          (intermediate): BertIntermediate(\n",
              "            (dense): Linear(in_features=768, out_features=3072, bias=True)\n",
              "          )\n",
              "          (output): BertOutput(\n",
              "            (dense): Linear(in_features=3072, out_features=768, bias=True)\n",
              "            (LayerNorm): LayerNorm((768,), eps=1e-12, elementwise_affine=True)\n",
              "            (dropout): Dropout(p=0.1, inplace=False)\n",
              "          )\n",
              "        )\n",
              "        (11): BertLayer(\n",
              "          (attention): BertAttention(\n",
              "            (self): BertSelfAttention(\n",
              "              (query): Linear(in_features=768, out_features=768, bias=True)\n",
              "              (key): Linear(in_features=768, out_features=768, bias=True)\n",
              "              (value): Linear(in_features=768, out_features=768, bias=True)\n",
              "              (dropout): Dropout(p=0.1, inplace=False)\n",
              "            )\n",
              "            (output): BertSelfOutput(\n",
              "              (dense): Linear(in_features=768, out_features=768, bias=True)\n",
              "              (LayerNorm): LayerNorm((768,), eps=1e-12, elementwise_affine=True)\n",
              "              (dropout): Dropout(p=0.1, inplace=False)\n",
              "            )\n",
              "          )\n",
              "          (intermediate): BertIntermediate(\n",
              "            (dense): Linear(in_features=768, out_features=3072, bias=True)\n",
              "          )\n",
              "          (output): BertOutput(\n",
              "            (dense): Linear(in_features=3072, out_features=768, bias=True)\n",
              "            (LayerNorm): LayerNorm((768,), eps=1e-12, elementwise_affine=True)\n",
              "            (dropout): Dropout(p=0.1, inplace=False)\n",
              "          )\n",
              "        )\n",
              "      )\n",
              "    )\n",
              "    (pooler): BertPooler(\n",
              "      (dense): Linear(in_features=768, out_features=768, bias=True)\n",
              "      (activation): Tanh()\n",
              "    )\n",
              "  )\n",
              "  (dropout): Dropout(p=0.1, inplace=False)\n",
              "  (classifier): Linear(in_features=768, out_features=3, bias=True)\n",
              ")"
            ]
          },
          "metadata": {
            "tags": []
          },
          "execution_count": 13
        }
      ]
    },
    {
      "cell_type": "code",
      "metadata": {
        "id": "fpBEAQ6b3Lxa",
        "colab_type": "code",
        "colab": {}
      },
      "source": [
        "optimizer = AdamW(model.parameters(),\n",
        "                  lr = 2e-5, # args.learning_rate - default is 5e-5, our notebook had 2e-5\n",
        "                  eps = 1e-8 # args.adam_epsilon  - default is 1e-8.\n",
        "                )"
      ],
      "execution_count": 0,
      "outputs": []
    },
    {
      "cell_type": "code",
      "metadata": {
        "id": "z6oLxipr3OCm",
        "colab_type": "code",
        "colab": {}
      },
      "source": [
        "from transformers import get_linear_schedule_with_warmup\n",
        "\n",
        "# Number of training epochs. The BERT authors recommend between 2 and 4. \n",
        "# We chose to run for 4, but we'll see later that this may be over-fitting the\n",
        "# training data.\n",
        "epochs = EPOCHS\n",
        "\n",
        "# Total number of training steps is [number of batches] x [number of epochs]. \n",
        "# (Note that this is not the same as the number of training samples).\n",
        "total_steps = len(train_dataloader) * epochs\n",
        "\n",
        "# Create the learning rate scheduler.\n",
        "scheduler = get_linear_schedule_with_warmup(optimizer, \n",
        "                                            num_warmup_steps = 0, # Default value in run_glue.py\n",
        "                                            num_training_steps = total_steps)"
      ],
      "execution_count": 0,
      "outputs": []
    },
    {
      "cell_type": "code",
      "metadata": {
        "id": "B2m_dnSY3QxS",
        "colab_type": "code",
        "colab": {}
      },
      "source": [
        "import numpy as np\n",
        "\n",
        "# Function to calculate the accuracy of our predictions vs labels\n",
        "def flat_accuracy(preds, labels):\n",
        "    pred_flat = np.argmax(preds, axis=1).flatten()\n",
        "    labels_flat = labels.flatten()\n",
        "    return np.sum(pred_flat == labels_flat) / len(labels_flat)"
      ],
      "execution_count": 0,
      "outputs": []
    },
    {
      "cell_type": "code",
      "metadata": {
        "id": "U6XT5sn-3Smy",
        "colab_type": "code",
        "colab": {}
      },
      "source": [
        "import time\n",
        "import datetime\n",
        "\n",
        "def format_time(elapsed):\n",
        "    '''\n",
        "    Takes a time in seconds and returns a string hh:mm:ss\n",
        "    '''\n",
        "    # Round to the nearest second.\n",
        "    elapsed_rounded = int(round((elapsed)))\n",
        "    \n",
        "    # Format as hh:mm:ss\n",
        "    return str(datetime.timedelta(seconds=elapsed_rounded))"
      ],
      "execution_count": 0,
      "outputs": []
    },
    {
      "cell_type": "code",
      "metadata": {
        "id": "xp6eCl473YLR",
        "colab_type": "code",
        "outputId": "c8e51ad4-81cb-4a5e-a18b-80613c7a2d2f",
        "colab": {
          "base_uri": "https://localhost:8080/",
          "height": 1000
        }
      },
      "source": [
        "import random\n",
        "import numpy as np\n",
        "\n",
        "# This training code is based on the `run_glue.py` script here:\n",
        "# https://github.com/huggingface/transformers/blob/5bfcd0485ece086ebcbed2d008813037968a9e58/examples/run_glue.py#L128\n",
        "\n",
        "# Set the seed value all over the place to make this reproducible.\n",
        "seed_val = 42\n",
        "\n",
        "random.seed(seed_val)\n",
        "np.random.seed(seed_val)\n",
        "torch.manual_seed(seed_val)\n",
        "torch.cuda.manual_seed_all(seed_val)\n",
        "\n",
        "# We'll store a number of quantities such as training and validation loss, \n",
        "# validation accuracy, and timings.\n",
        "training_stats = []\n",
        "\n",
        "# Measure the total training time for the whole run.\n",
        "total_t0 = time.time()\n",
        "\n",
        "# For each epoch...\n",
        "for epoch_i in range(0, epochs):\n",
        "    \n",
        "    # ========================================\n",
        "    #               Training\n",
        "    # ========================================\n",
        "    \n",
        "    # Perform one full pass over the training set.\n",
        "\n",
        "    print(\"\")\n",
        "    print('======== Epoch {:} / {:} ========'.format(epoch_i + 1, epochs))\n",
        "    print('Training...')\n",
        "\n",
        "    # Measure how long the training epoch takes.\n",
        "    t0 = time.time()\n",
        "\n",
        "    # Reset the total loss for this epoch.\n",
        "    total_train_loss = 0\n",
        "\n",
        "    # Put the model into training mode. Don't be mislead--the call to \n",
        "    # `train` just changes the *mode*, it doesn't *perform* the training.\n",
        "    # `dropout` and `batchnorm` layers behave differently during training\n",
        "    # vs. test (source: https://stackoverflow.com/questions/51433378/what-does-model-train-do-in-pytorch)\n",
        "    model.train()\n",
        "\n",
        "    # For each batch of training data...\n",
        "    for step, batch in enumerate(train_dataloader):\n",
        "\n",
        "        # Progress update every 40 batches.\n",
        "        if step % 40 == 0 and not step == 0:\n",
        "            # Calculate elapsed time in minutes.\n",
        "            elapsed = format_time(time.time() - t0)\n",
        "            \n",
        "            # Report progress.\n",
        "            print('  Batch {:>5,}  of  {:>5,}.    Elapsed: {:}.'.format(step, len(train_dataloader), elapsed))\n",
        "\n",
        "        # Unpack this training batch from our dataloader. \n",
        "        #\n",
        "        # As we unpack the batch, we'll also copy each tensor to the GPU using the \n",
        "        # `to` method.\n",
        "        #\n",
        "        # `batch` contains three pytorch tensors:\n",
        "        #   [0]: input ids \n",
        "        #   [1]: attention masks\n",
        "        #   [2]: labels \n",
        "        b_input_ids = batch[0].to(device)\n",
        "        b_input_mask = batch[1].to(device)\n",
        "        b_labels = batch[2].to(device)\n",
        "\n",
        "        # Always clear any previously calculated gradients before performing a\n",
        "        # backward pass. PyTorch doesn't do this automatically because \n",
        "        # accumulating the gradients is \"convenient while training RNNs\". \n",
        "        # (source: https://stackoverflow.com/questions/48001598/why-do-we-need-to-call-zero-grad-in-pytorch)\n",
        "        model.zero_grad()        \n",
        "\n",
        "        # Perform a forward pass (evaluate the model on this training batch).\n",
        "        # The documentation for this `model` function is here: \n",
        "        # https://huggingface.co/transformers/v2.2.0/model_doc/bert.html#transformers.BertForSequenceClassification\n",
        "        # It returns different numbers of parameters depending on what arguments\n",
        "        # arge given and what flags are set. For our useage here, it returns\n",
        "        # the loss (because we provided labels) and the \"logits\"--the model\n",
        "        # outputs prior to activation.\n",
        "        loss, logits = model(b_input_ids, \n",
        "                             token_type_ids=None, \n",
        "                             attention_mask=b_input_mask, \n",
        "                             labels=b_labels)\n",
        "\n",
        "        # Accumulate the training loss over all of the batches so that we can\n",
        "        # calculate the average loss at the end. `loss` is a Tensor containing a\n",
        "        # single value; the `.item()` function just returns the Python value \n",
        "        # from the tensor.\n",
        "        total_train_loss += loss.item()\n",
        "\n",
        "        # Perform a backward pass to calculate the gradients.\n",
        "        loss.backward()\n",
        "\n",
        "        # Clip the norm of the gradients to 1.0.\n",
        "        # This is to help prevent the \"exploding gradients\" problem.\n",
        "        torch.nn.utils.clip_grad_norm_(model.parameters(), 1.0)\n",
        "\n",
        "        # Update parameters and take a step using the computed gradient.\n",
        "        # The optimizer dictates the \"update rule\"--how the parameters are\n",
        "        # modified based on their gradients, the learning rate, etc.\n",
        "        optimizer.step()\n",
        "\n",
        "        # Update the learning rate.\n",
        "        scheduler.step()\n",
        "\n",
        "    # Calculate the average loss over all of the batches.\n",
        "    avg_train_loss = total_train_loss / len(train_dataloader)            \n",
        "    \n",
        "    # Measure how long this epoch took.\n",
        "    training_time = format_time(time.time() - t0)\n",
        "\n",
        "    print(\"\")\n",
        "    print(\"  Average training loss: {0:.2f}\".format(avg_train_loss))\n",
        "    print(\"  Training epcoh took: {:}\".format(training_time))\n",
        "        \n",
        "    # ========================================\n",
        "    #               Validation\n",
        "    # ========================================\n",
        "    # After the completion of each training epoch, measure our performance on\n",
        "    # our validation set.\n",
        "\n",
        "    print(\"\")\n",
        "    print(\"Running Validation...\")\n",
        "\n",
        "    t0 = time.time()\n",
        "\n",
        "    # Put the model in evaluation mode--the dropout layers behave differently\n",
        "    # during evaluation.\n",
        "    model.eval()\n",
        "\n",
        "    # Tracking variables \n",
        "    total_eval_accuracy = 0\n",
        "    total_eval_loss = 0\n",
        "    nb_eval_steps = 0\n",
        "\n",
        "    # Evaluate data for one epoch\n",
        "    for batch in validation_dataloader:\n",
        "        \n",
        "        # Unpack this training batch from our dataloader. \n",
        "        #\n",
        "        # As we unpack the batch, we'll also copy each tensor to the GPU using \n",
        "        # the `to` method.\n",
        "        #\n",
        "        # `batch` contains three pytorch tensors:\n",
        "        #   [0]: input ids \n",
        "        #   [1]: attention masks\n",
        "        #   [2]: labels \n",
        "        b_input_ids = batch[0].to(device)\n",
        "        b_input_mask = batch[1].to(device)\n",
        "        b_labels = batch[2].to(device)\n",
        "        \n",
        "        # Tell pytorch not to bother with constructing the compute graph during\n",
        "        # the forward pass, since this is only needed for backprop (training).\n",
        "        with torch.no_grad():        \n",
        "\n",
        "            # Forward pass, calculate logit predictions.\n",
        "            # token_type_ids is the same as the \"segment ids\", which \n",
        "            # differentiates sentence 1 and 2 in 2-sentence tasks.\n",
        "            # The documentation for this `model` function is here: \n",
        "            # https://huggingface.co/transformers/v2.2.0/model_doc/bert.html#transformers.BertForSequenceClassification\n",
        "            # Get the \"logits\" output by the model. The \"logits\" are the output\n",
        "            # values prior to applying an activation function like the softmax.\n",
        "            (loss, logits) = model(b_input_ids, \n",
        "                                   token_type_ids=None, \n",
        "                                   attention_mask=b_input_mask,\n",
        "                                   labels=b_labels)\n",
        "            \n",
        "        # Accumulate the validation loss.\n",
        "        total_eval_loss += loss.item()\n",
        "\n",
        "        # Move logits and labels to CPU\n",
        "        logits = logits.detach().cpu().numpy()\n",
        "        label_ids = b_labels.to('cpu').numpy()\n",
        "\n",
        "        # Calculate the accuracy for this batch of test sentences, and\n",
        "        # accumulate it over all batches.\n",
        "        total_eval_accuracy += flat_accuracy(logits, label_ids)\n",
        "        \n",
        "\n",
        "    # Report the final accuracy for this validation run.\n",
        "    avg_val_accuracy = total_eval_accuracy / len(validation_dataloader)\n",
        "    print(\"  Accuracy: {0:.2f}\".format(avg_val_accuracy))\n",
        "\n",
        "    # Calculate the average loss over all of the batches.\n",
        "    avg_val_loss = total_eval_loss / len(validation_dataloader)\n",
        "    \n",
        "    # Measure how long the validation run took.\n",
        "    validation_time = format_time(time.time() - t0)\n",
        "    \n",
        "    print(\"  Validation Loss: {0:.2f}\".format(avg_val_loss))\n",
        "    print(\"  Validation took: {:}\".format(validation_time))\n",
        "\n",
        "    # Record all statistics from this epoch.\n",
        "    training_stats.append(\n",
        "        {\n",
        "            'epoch': epoch_i + 1,\n",
        "            'Training Loss': avg_train_loss,\n",
        "            'Valid. Loss': avg_val_loss,\n",
        "            'Valid. Accur.': avg_val_accuracy,\n",
        "            'Training Time': training_time,\n",
        "            'Validation Time': validation_time\n",
        "        }\n",
        "    )\n",
        "\n",
        "print(\"\")\n",
        "print(\"Training complete!\")\n",
        "\n",
        "print(\"Total training took {:} (h:mm:ss)\".format(format_time(time.time()-total_t0)))"
      ],
      "execution_count": 18,
      "outputs": [
        {
          "output_type": "stream",
          "text": [
            "\n",
            "======== Epoch 1 / 3 ========\n",
            "Training...\n",
            "  Batch    40  of  4,078.    Elapsed: 0:00:49.\n",
            "  Batch    80  of  4,078.    Elapsed: 0:01:40.\n",
            "  Batch   120  of  4,078.    Elapsed: 0:02:30.\n",
            "  Batch   160  of  4,078.    Elapsed: 0:03:21.\n",
            "  Batch   200  of  4,078.    Elapsed: 0:04:11.\n",
            "  Batch   240  of  4,078.    Elapsed: 0:05:02.\n",
            "  Batch   280  of  4,078.    Elapsed: 0:05:52.\n",
            "  Batch   320  of  4,078.    Elapsed: 0:06:43.\n",
            "  Batch   360  of  4,078.    Elapsed: 0:07:33.\n",
            "  Batch   400  of  4,078.    Elapsed: 0:08:24.\n",
            "  Batch   440  of  4,078.    Elapsed: 0:09:14.\n",
            "  Batch   480  of  4,078.    Elapsed: 0:10:05.\n",
            "  Batch   520  of  4,078.    Elapsed: 0:10:55.\n",
            "  Batch   560  of  4,078.    Elapsed: 0:11:46.\n",
            "  Batch   600  of  4,078.    Elapsed: 0:12:36.\n",
            "  Batch   640  of  4,078.    Elapsed: 0:13:27.\n",
            "  Batch   680  of  4,078.    Elapsed: 0:14:18.\n",
            "  Batch   720  of  4,078.    Elapsed: 0:15:08.\n",
            "  Batch   760  of  4,078.    Elapsed: 0:15:59.\n",
            "  Batch   800  of  4,078.    Elapsed: 0:16:49.\n",
            "  Batch   840  of  4,078.    Elapsed: 0:17:40.\n",
            "  Batch   880  of  4,078.    Elapsed: 0:18:30.\n",
            "  Batch   920  of  4,078.    Elapsed: 0:19:21.\n",
            "  Batch   960  of  4,078.    Elapsed: 0:20:11.\n",
            "  Batch 1,000  of  4,078.    Elapsed: 0:21:02.\n",
            "  Batch 1,040  of  4,078.    Elapsed: 0:21:52.\n",
            "  Batch 1,080  of  4,078.    Elapsed: 0:22:43.\n",
            "  Batch 1,120  of  4,078.    Elapsed: 0:23:33.\n",
            "  Batch 1,160  of  4,078.    Elapsed: 0:24:24.\n",
            "  Batch 1,200  of  4,078.    Elapsed: 0:25:14.\n",
            "  Batch 1,240  of  4,078.    Elapsed: 0:26:05.\n",
            "  Batch 1,280  of  4,078.    Elapsed: 0:26:55.\n",
            "  Batch 1,320  of  4,078.    Elapsed: 0:27:46.\n",
            "  Batch 1,360  of  4,078.    Elapsed: 0:28:37.\n",
            "  Batch 1,400  of  4,078.    Elapsed: 0:29:27.\n",
            "  Batch 1,440  of  4,078.    Elapsed: 0:30:18.\n",
            "  Batch 1,480  of  4,078.    Elapsed: 0:31:08.\n",
            "  Batch 1,520  of  4,078.    Elapsed: 0:31:58.\n",
            "  Batch 1,560  of  4,078.    Elapsed: 0:32:49.\n",
            "  Batch 1,600  of  4,078.    Elapsed: 0:33:40.\n",
            "  Batch 1,640  of  4,078.    Elapsed: 0:34:30.\n",
            "  Batch 1,680  of  4,078.    Elapsed: 0:35:21.\n",
            "  Batch 1,720  of  4,078.    Elapsed: 0:36:11.\n",
            "  Batch 1,760  of  4,078.    Elapsed: 0:37:02.\n",
            "  Batch 1,800  of  4,078.    Elapsed: 0:37:52.\n",
            "  Batch 1,840  of  4,078.    Elapsed: 0:38:43.\n",
            "  Batch 1,880  of  4,078.    Elapsed: 0:39:33.\n",
            "  Batch 1,920  of  4,078.    Elapsed: 0:40:24.\n",
            "  Batch 1,960  of  4,078.    Elapsed: 0:41:14.\n",
            "  Batch 2,000  of  4,078.    Elapsed: 0:42:05.\n",
            "  Batch 2,040  of  4,078.    Elapsed: 0:42:55.\n",
            "  Batch 2,080  of  4,078.    Elapsed: 0:43:46.\n",
            "  Batch 2,120  of  4,078.    Elapsed: 0:44:36.\n",
            "  Batch 2,160  of  4,078.    Elapsed: 0:45:27.\n",
            "  Batch 2,200  of  4,078.    Elapsed: 0:46:18.\n",
            "  Batch 2,240  of  4,078.    Elapsed: 0:47:08.\n",
            "  Batch 2,280  of  4,078.    Elapsed: 0:47:59.\n",
            "  Batch 2,320  of  4,078.    Elapsed: 0:48:49.\n",
            "  Batch 2,360  of  4,078.    Elapsed: 0:49:40.\n",
            "  Batch 2,400  of  4,078.    Elapsed: 0:50:30.\n",
            "  Batch 2,440  of  4,078.    Elapsed: 0:51:21.\n",
            "  Batch 2,480  of  4,078.    Elapsed: 0:52:11.\n",
            "  Batch 2,520  of  4,078.    Elapsed: 0:53:02.\n",
            "  Batch 2,560  of  4,078.    Elapsed: 0:53:52.\n",
            "  Batch 2,600  of  4,078.    Elapsed: 0:54:43.\n",
            "  Batch 2,640  of  4,078.    Elapsed: 0:55:34.\n",
            "  Batch 2,680  of  4,078.    Elapsed: 0:56:24.\n",
            "  Batch 2,720  of  4,078.    Elapsed: 0:57:15.\n",
            "  Batch 2,760  of  4,078.    Elapsed: 0:58:05.\n",
            "  Batch 2,800  of  4,078.    Elapsed: 0:58:56.\n",
            "  Batch 2,840  of  4,078.    Elapsed: 0:59:46.\n",
            "  Batch 2,880  of  4,078.    Elapsed: 1:00:37.\n",
            "  Batch 2,920  of  4,078.    Elapsed: 1:01:28.\n",
            "  Batch 2,960  of  4,078.    Elapsed: 1:02:18.\n",
            "  Batch 3,000  of  4,078.    Elapsed: 1:03:09.\n",
            "  Batch 3,040  of  4,078.    Elapsed: 1:04:00.\n",
            "  Batch 3,080  of  4,078.    Elapsed: 1:04:50.\n",
            "  Batch 3,120  of  4,078.    Elapsed: 1:05:41.\n",
            "  Batch 3,160  of  4,078.    Elapsed: 1:06:32.\n",
            "  Batch 3,200  of  4,078.    Elapsed: 1:07:22.\n",
            "  Batch 3,240  of  4,078.    Elapsed: 1:08:13.\n",
            "  Batch 3,280  of  4,078.    Elapsed: 1:09:03.\n",
            "  Batch 3,320  of  4,078.    Elapsed: 1:09:54.\n",
            "  Batch 3,360  of  4,078.    Elapsed: 1:10:45.\n",
            "  Batch 3,400  of  4,078.    Elapsed: 1:11:35.\n",
            "  Batch 3,440  of  4,078.    Elapsed: 1:12:26.\n",
            "  Batch 3,480  of  4,078.    Elapsed: 1:13:16.\n",
            "  Batch 3,520  of  4,078.    Elapsed: 1:14:07.\n",
            "  Batch 3,560  of  4,078.    Elapsed: 1:14:58.\n",
            "  Batch 3,600  of  4,078.    Elapsed: 1:15:48.\n",
            "  Batch 3,640  of  4,078.    Elapsed: 1:16:39.\n",
            "  Batch 3,680  of  4,078.    Elapsed: 1:17:30.\n",
            "  Batch 3,720  of  4,078.    Elapsed: 1:18:20.\n",
            "  Batch 3,760  of  4,078.    Elapsed: 1:19:11.\n",
            "  Batch 3,800  of  4,078.    Elapsed: 1:20:01.\n",
            "  Batch 3,840  of  4,078.    Elapsed: 1:20:52.\n",
            "  Batch 3,880  of  4,078.    Elapsed: 1:21:43.\n",
            "  Batch 3,920  of  4,078.    Elapsed: 1:22:33.\n",
            "  Batch 3,960  of  4,078.    Elapsed: 1:23:24.\n",
            "  Batch 4,000  of  4,078.    Elapsed: 1:24:14.\n",
            "  Batch 4,040  of  4,078.    Elapsed: 1:25:05.\n",
            "\n",
            "  Average training loss: 0.42\n",
            "  Training epcoh took: 1:25:52\n",
            "\n",
            "Running Validation...\n",
            "  Accuracy: 0.88\n",
            "  Validation Loss: 0.33\n",
            "  Validation took: 0:01:35\n",
            "\n",
            "======== Epoch 2 / 3 ========\n",
            "Training...\n",
            "  Batch    40  of  4,078.    Elapsed: 0:00:51.\n",
            "  Batch    80  of  4,078.    Elapsed: 0:01:41.\n",
            "  Batch   120  of  4,078.    Elapsed: 0:02:32.\n",
            "  Batch   160  of  4,078.    Elapsed: 0:03:22.\n",
            "  Batch   200  of  4,078.    Elapsed: 0:04:13.\n",
            "  Batch   240  of  4,078.    Elapsed: 0:05:03.\n",
            "  Batch   280  of  4,078.    Elapsed: 0:05:54.\n",
            "  Batch   320  of  4,078.    Elapsed: 0:06:45.\n",
            "  Batch   360  of  4,078.    Elapsed: 0:07:35.\n",
            "  Batch   400  of  4,078.    Elapsed: 0:08:26.\n",
            "  Batch   440  of  4,078.    Elapsed: 0:09:16.\n",
            "  Batch   480  of  4,078.    Elapsed: 0:10:07.\n",
            "  Batch   520  of  4,078.    Elapsed: 0:10:57.\n",
            "  Batch   560  of  4,078.    Elapsed: 0:11:48.\n",
            "  Batch   600  of  4,078.    Elapsed: 0:12:39.\n",
            "  Batch   640  of  4,078.    Elapsed: 0:13:29.\n",
            "  Batch   680  of  4,078.    Elapsed: 0:14:20.\n",
            "  Batch   720  of  4,078.    Elapsed: 0:15:10.\n",
            "  Batch   760  of  4,078.    Elapsed: 0:16:01.\n",
            "  Batch   800  of  4,078.    Elapsed: 0:16:52.\n",
            "  Batch   840  of  4,078.    Elapsed: 0:17:42.\n",
            "  Batch   880  of  4,078.    Elapsed: 0:18:33.\n",
            "  Batch   920  of  4,078.    Elapsed: 0:19:23.\n",
            "  Batch   960  of  4,078.    Elapsed: 0:20:14.\n",
            "  Batch 1,000  of  4,078.    Elapsed: 0:21:05.\n",
            "  Batch 1,040  of  4,078.    Elapsed: 0:21:55.\n",
            "  Batch 1,080  of  4,078.    Elapsed: 0:22:46.\n",
            "  Batch 1,120  of  4,078.    Elapsed: 0:23:37.\n",
            "  Batch 1,160  of  4,078.    Elapsed: 0:24:27.\n",
            "  Batch 1,200  of  4,078.    Elapsed: 0:25:18.\n",
            "  Batch 1,240  of  4,078.    Elapsed: 0:26:08.\n",
            "  Batch 1,280  of  4,078.    Elapsed: 0:26:59.\n",
            "  Batch 1,320  of  4,078.    Elapsed: 0:27:50.\n",
            "  Batch 1,360  of  4,078.    Elapsed: 0:28:40.\n",
            "  Batch 1,400  of  4,078.    Elapsed: 0:29:31.\n",
            "  Batch 1,440  of  4,078.    Elapsed: 0:30:21.\n",
            "  Batch 1,480  of  4,078.    Elapsed: 0:31:12.\n",
            "  Batch 1,520  of  4,078.    Elapsed: 0:32:03.\n",
            "  Batch 1,560  of  4,078.    Elapsed: 0:32:53.\n",
            "  Batch 1,600  of  4,078.    Elapsed: 0:33:44.\n",
            "  Batch 1,640  of  4,078.    Elapsed: 0:34:35.\n",
            "  Batch 1,680  of  4,078.    Elapsed: 0:35:25.\n",
            "  Batch 1,720  of  4,078.    Elapsed: 0:36:16.\n",
            "  Batch 1,760  of  4,078.    Elapsed: 0:37:06.\n",
            "  Batch 1,800  of  4,078.    Elapsed: 0:37:57.\n",
            "  Batch 1,840  of  4,078.    Elapsed: 0:38:48.\n",
            "  Batch 1,880  of  4,078.    Elapsed: 0:39:38.\n",
            "  Batch 1,920  of  4,078.    Elapsed: 0:40:29.\n",
            "  Batch 1,960  of  4,078.    Elapsed: 0:41:19.\n",
            "  Batch 2,000  of  4,078.    Elapsed: 0:42:10.\n",
            "  Batch 2,040  of  4,078.    Elapsed: 0:43:01.\n",
            "  Batch 2,080  of  4,078.    Elapsed: 0:43:51.\n",
            "  Batch 2,120  of  4,078.    Elapsed: 0:44:42.\n",
            "  Batch 2,160  of  4,078.    Elapsed: 0:45:33.\n",
            "  Batch 2,200  of  4,078.    Elapsed: 0:46:23.\n",
            "  Batch 2,240  of  4,078.    Elapsed: 0:47:14.\n",
            "  Batch 2,280  of  4,078.    Elapsed: 0:48:05.\n",
            "  Batch 2,320  of  4,078.    Elapsed: 0:48:55.\n",
            "  Batch 2,360  of  4,078.    Elapsed: 0:49:46.\n",
            "  Batch 2,400  of  4,078.    Elapsed: 0:50:37.\n",
            "  Batch 2,440  of  4,078.    Elapsed: 0:51:27.\n",
            "  Batch 2,480  of  4,078.    Elapsed: 0:52:18.\n",
            "  Batch 2,520  of  4,078.    Elapsed: 0:53:08.\n",
            "  Batch 2,560  of  4,078.    Elapsed: 0:53:59.\n",
            "  Batch 2,600  of  4,078.    Elapsed: 0:54:50.\n",
            "  Batch 2,640  of  4,078.    Elapsed: 0:55:40.\n",
            "  Batch 2,680  of  4,078.    Elapsed: 0:56:31.\n",
            "  Batch 2,720  of  4,078.    Elapsed: 0:57:21.\n",
            "  Batch 2,760  of  4,078.    Elapsed: 0:58:12.\n",
            "  Batch 2,800  of  4,078.    Elapsed: 0:59:03.\n",
            "  Batch 2,840  of  4,078.    Elapsed: 0:59:53.\n",
            "  Batch 2,880  of  4,078.    Elapsed: 1:00:44.\n",
            "  Batch 2,920  of  4,078.    Elapsed: 1:01:34.\n",
            "  Batch 2,960  of  4,078.    Elapsed: 1:02:25.\n",
            "  Batch 3,000  of  4,078.    Elapsed: 1:03:15.\n",
            "  Batch 3,040  of  4,078.    Elapsed: 1:04:06.\n",
            "  Batch 3,080  of  4,078.    Elapsed: 1:04:57.\n",
            "  Batch 3,120  of  4,078.    Elapsed: 1:05:47.\n",
            "  Batch 3,160  of  4,078.    Elapsed: 1:06:38.\n",
            "  Batch 3,200  of  4,078.    Elapsed: 1:07:29.\n",
            "  Batch 3,240  of  4,078.    Elapsed: 1:08:19.\n",
            "  Batch 3,280  of  4,078.    Elapsed: 1:09:10.\n",
            "  Batch 3,320  of  4,078.    Elapsed: 1:10:01.\n",
            "  Batch 3,360  of  4,078.    Elapsed: 1:10:51.\n",
            "  Batch 3,400  of  4,078.    Elapsed: 1:11:42.\n",
            "  Batch 3,440  of  4,078.    Elapsed: 1:12:32.\n",
            "  Batch 3,480  of  4,078.    Elapsed: 1:13:23.\n",
            "  Batch 3,520  of  4,078.    Elapsed: 1:14:14.\n",
            "  Batch 3,560  of  4,078.    Elapsed: 1:15:04.\n",
            "  Batch 3,600  of  4,078.    Elapsed: 1:15:55.\n",
            "  Batch 3,640  of  4,078.    Elapsed: 1:16:45.\n",
            "  Batch 3,680  of  4,078.    Elapsed: 1:17:36.\n",
            "  Batch 3,720  of  4,078.    Elapsed: 1:18:27.\n",
            "  Batch 3,760  of  4,078.    Elapsed: 1:19:17.\n",
            "  Batch 3,800  of  4,078.    Elapsed: 1:20:08.\n",
            "  Batch 3,840  of  4,078.    Elapsed: 1:20:59.\n",
            "  Batch 3,880  of  4,078.    Elapsed: 1:21:49.\n",
            "  Batch 3,920  of  4,078.    Elapsed: 1:22:40.\n",
            "  Batch 3,960  of  4,078.    Elapsed: 1:23:30.\n",
            "  Batch 4,000  of  4,078.    Elapsed: 1:24:21.\n",
            "  Batch 4,040  of  4,078.    Elapsed: 1:25:12.\n",
            "\n",
            "  Average training loss: 0.29\n",
            "  Training epcoh took: 1:25:59\n",
            "\n",
            "Running Validation...\n",
            "  Accuracy: 0.89\n",
            "  Validation Loss: 0.32\n",
            "  Validation took: 0:01:35\n",
            "\n",
            "======== Epoch 3 / 3 ========\n",
            "Training...\n",
            "  Batch    40  of  4,078.    Elapsed: 0:00:51.\n",
            "  Batch    80  of  4,078.    Elapsed: 0:01:41.\n",
            "  Batch   120  of  4,078.    Elapsed: 0:02:32.\n",
            "  Batch   160  of  4,078.    Elapsed: 0:03:22.\n",
            "  Batch   200  of  4,078.    Elapsed: 0:04:13.\n",
            "  Batch   240  of  4,078.    Elapsed: 0:05:04.\n",
            "  Batch   280  of  4,078.    Elapsed: 0:05:54.\n",
            "  Batch   320  of  4,078.    Elapsed: 0:06:45.\n",
            "  Batch   360  of  4,078.    Elapsed: 0:07:35.\n",
            "  Batch   400  of  4,078.    Elapsed: 0:08:26.\n",
            "  Batch   440  of  4,078.    Elapsed: 0:09:17.\n",
            "  Batch   480  of  4,078.    Elapsed: 0:10:07.\n",
            "  Batch   520  of  4,078.    Elapsed: 0:10:58.\n",
            "  Batch   560  of  4,078.    Elapsed: 0:11:48.\n",
            "  Batch   600  of  4,078.    Elapsed: 0:12:39.\n",
            "  Batch   640  of  4,078.    Elapsed: 0:13:29.\n",
            "  Batch   680  of  4,078.    Elapsed: 0:14:20.\n",
            "  Batch   720  of  4,078.    Elapsed: 0:15:11.\n",
            "  Batch   760  of  4,078.    Elapsed: 0:16:01.\n",
            "  Batch   800  of  4,078.    Elapsed: 0:16:52.\n",
            "  Batch   840  of  4,078.    Elapsed: 0:17:42.\n",
            "  Batch   880  of  4,078.    Elapsed: 0:18:33.\n",
            "  Batch   920  of  4,078.    Elapsed: 0:19:23.\n",
            "  Batch   960  of  4,078.    Elapsed: 0:20:14.\n",
            "  Batch 1,000  of  4,078.    Elapsed: 0:21:05.\n",
            "  Batch 1,040  of  4,078.    Elapsed: 0:21:55.\n",
            "  Batch 1,080  of  4,078.    Elapsed: 0:22:46.\n",
            "  Batch 1,120  of  4,078.    Elapsed: 0:23:36.\n",
            "  Batch 1,160  of  4,078.    Elapsed: 0:24:27.\n",
            "  Batch 1,200  of  4,078.    Elapsed: 0:25:17.\n",
            "  Batch 1,240  of  4,078.    Elapsed: 0:26:08.\n",
            "  Batch 1,280  of  4,078.    Elapsed: 0:26:59.\n",
            "  Batch 1,320  of  4,078.    Elapsed: 0:27:49.\n",
            "  Batch 1,360  of  4,078.    Elapsed: 0:28:40.\n",
            "  Batch 1,400  of  4,078.    Elapsed: 0:29:30.\n",
            "  Batch 1,440  of  4,078.    Elapsed: 0:30:21.\n",
            "  Batch 1,480  of  4,078.    Elapsed: 0:31:12.\n",
            "  Batch 1,520  of  4,078.    Elapsed: 0:32:02.\n",
            "  Batch 1,560  of  4,078.    Elapsed: 0:32:53.\n",
            "  Batch 1,600  of  4,078.    Elapsed: 0:33:43.\n",
            "  Batch 1,640  of  4,078.    Elapsed: 0:34:34.\n",
            "  Batch 1,680  of  4,078.    Elapsed: 0:35:25.\n",
            "  Batch 1,720  of  4,078.    Elapsed: 0:36:15.\n",
            "  Batch 1,760  of  4,078.    Elapsed: 0:37:06.\n",
            "  Batch 1,800  of  4,078.    Elapsed: 0:37:56.\n",
            "  Batch 1,840  of  4,078.    Elapsed: 0:38:47.\n",
            "  Batch 1,880  of  4,078.    Elapsed: 0:39:37.\n",
            "  Batch 1,920  of  4,078.    Elapsed: 0:40:28.\n",
            "  Batch 1,960  of  4,078.    Elapsed: 0:41:19.\n",
            "  Batch 2,000  of  4,078.    Elapsed: 0:42:09.\n",
            "  Batch 2,040  of  4,078.    Elapsed: 0:43:00.\n",
            "  Batch 2,080  of  4,078.    Elapsed: 0:43:50.\n",
            "  Batch 2,120  of  4,078.    Elapsed: 0:44:41.\n",
            "  Batch 2,160  of  4,078.    Elapsed: 0:45:32.\n",
            "  Batch 2,200  of  4,078.    Elapsed: 0:46:22.\n",
            "  Batch 2,240  of  4,078.    Elapsed: 0:47:13.\n",
            "  Batch 2,280  of  4,078.    Elapsed: 0:48:04.\n",
            "  Batch 2,320  of  4,078.    Elapsed: 0:48:54.\n",
            "  Batch 2,360  of  4,078.    Elapsed: 0:49:45.\n",
            "  Batch 2,400  of  4,078.    Elapsed: 0:50:36.\n",
            "  Batch 2,440  of  4,078.    Elapsed: 0:51:26.\n",
            "  Batch 2,480  of  4,078.    Elapsed: 0:52:17.\n",
            "  Batch 2,520  of  4,078.    Elapsed: 0:53:08.\n",
            "  Batch 2,560  of  4,078.    Elapsed: 0:53:58.\n",
            "  Batch 2,600  of  4,078.    Elapsed: 0:54:49.\n",
            "  Batch 2,640  of  4,078.    Elapsed: 0:55:39.\n",
            "  Batch 2,680  of  4,078.    Elapsed: 0:56:30.\n",
            "  Batch 2,720  of  4,078.    Elapsed: 0:57:21.\n",
            "  Batch 2,760  of  4,078.    Elapsed: 0:58:11.\n",
            "  Batch 2,800  of  4,078.    Elapsed: 0:59:02.\n",
            "  Batch 2,840  of  4,078.    Elapsed: 0:59:53.\n",
            "  Batch 2,880  of  4,078.    Elapsed: 1:00:43.\n",
            "  Batch 2,920  of  4,078.    Elapsed: 1:01:34.\n",
            "  Batch 2,960  of  4,078.    Elapsed: 1:02:24.\n",
            "  Batch 3,000  of  4,078.    Elapsed: 1:03:15.\n",
            "  Batch 3,040  of  4,078.    Elapsed: 1:04:05.\n",
            "  Batch 3,080  of  4,078.    Elapsed: 1:04:56.\n",
            "  Batch 3,120  of  4,078.    Elapsed: 1:05:47.\n",
            "  Batch 3,160  of  4,078.    Elapsed: 1:06:37.\n",
            "  Batch 3,200  of  4,078.    Elapsed: 1:07:28.\n",
            "  Batch 3,240  of  4,078.    Elapsed: 1:08:19.\n",
            "  Batch 3,280  of  4,078.    Elapsed: 1:09:09.\n",
            "  Batch 3,320  of  4,078.    Elapsed: 1:10:00.\n",
            "  Batch 3,360  of  4,078.    Elapsed: 1:10:51.\n",
            "  Batch 3,400  of  4,078.    Elapsed: 1:11:41.\n",
            "  Batch 3,440  of  4,078.    Elapsed: 1:12:32.\n",
            "  Batch 3,480  of  4,078.    Elapsed: 1:13:23.\n",
            "  Batch 3,520  of  4,078.    Elapsed: 1:14:13.\n",
            "  Batch 3,560  of  4,078.    Elapsed: 1:15:04.\n",
            "  Batch 3,600  of  4,078.    Elapsed: 1:15:54.\n",
            "  Batch 3,640  of  4,078.    Elapsed: 1:16:45.\n",
            "  Batch 3,680  of  4,078.    Elapsed: 1:17:36.\n",
            "  Batch 3,720  of  4,078.    Elapsed: 1:18:26.\n",
            "  Batch 3,760  of  4,078.    Elapsed: 1:19:17.\n",
            "  Batch 3,800  of  4,078.    Elapsed: 1:20:08.\n",
            "  Batch 3,840  of  4,078.    Elapsed: 1:20:59.\n",
            "  Batch 3,880  of  4,078.    Elapsed: 1:21:49.\n",
            "  Batch 3,920  of  4,078.    Elapsed: 1:22:40.\n",
            "  Batch 3,960  of  4,078.    Elapsed: 1:23:31.\n",
            "  Batch 4,000  of  4,078.    Elapsed: 1:24:21.\n",
            "  Batch 4,040  of  4,078.    Elapsed: 1:25:12.\n",
            "\n",
            "  Average training loss: 0.24\n",
            "  Training epcoh took: 1:25:59\n",
            "\n",
            "Running Validation...\n",
            "  Accuracy: 0.89\n",
            "  Validation Loss: 0.32\n",
            "  Validation took: 0:01:35\n",
            "\n",
            "Training complete!\n",
            "Total training took 4:22:35 (h:mm:ss)\n"
          ],
          "name": "stdout"
        }
      ]
    },
    {
      "cell_type": "code",
      "metadata": {
        "id": "jFSrqfWV3iyL",
        "colab_type": "code",
        "colab": {
          "base_uri": "https://localhost:8080/",
          "height": 173
        },
        "outputId": "3b6ee481-932c-4a7a-ebf4-b48d640be578"
      },
      "source": [
        "import pandas as pd\n",
        "\n",
        "# Display floats with two decimal places.\n",
        "pd.set_option('precision', 2)\n",
        "\n",
        "# Create a DataFrame from our training statistics.\n",
        "df_stats = pd.DataFrame(data=training_stats)\n",
        "\n",
        "# Use the 'epoch' as the row index.\n",
        "df_stats = df_stats.set_index('epoch')\n",
        "\n",
        "# A hack to force the column headers to wrap.\n",
        "#df = df.style.set_table_styles([dict(selector=\"th\",props=[('max-width', '70px')])])\n",
        "\n",
        "# Display the table.\n",
        "df_stats"
      ],
      "execution_count": 19,
      "outputs": [
        {
          "output_type": "execute_result",
          "data": {
            "text/html": [
              "<div>\n",
              "<style scoped>\n",
              "    .dataframe tbody tr th:only-of-type {\n",
              "        vertical-align: middle;\n",
              "    }\n",
              "\n",
              "    .dataframe tbody tr th {\n",
              "        vertical-align: top;\n",
              "    }\n",
              "\n",
              "    .dataframe thead th {\n",
              "        text-align: right;\n",
              "    }\n",
              "</style>\n",
              "<table border=\"1\" class=\"dataframe\">\n",
              "  <thead>\n",
              "    <tr style=\"text-align: right;\">\n",
              "      <th></th>\n",
              "      <th>Training Loss</th>\n",
              "      <th>Valid. Loss</th>\n",
              "      <th>Valid. Accur.</th>\n",
              "      <th>Training Time</th>\n",
              "      <th>Validation Time</th>\n",
              "    </tr>\n",
              "    <tr>\n",
              "      <th>epoch</th>\n",
              "      <th></th>\n",
              "      <th></th>\n",
              "      <th></th>\n",
              "      <th></th>\n",
              "      <th></th>\n",
              "    </tr>\n",
              "  </thead>\n",
              "  <tbody>\n",
              "    <tr>\n",
              "      <th>1</th>\n",
              "      <td>0.42</td>\n",
              "      <td>0.33</td>\n",
              "      <td>0.88</td>\n",
              "      <td>1:25:52</td>\n",
              "      <td>0:01:35</td>\n",
              "    </tr>\n",
              "    <tr>\n",
              "      <th>2</th>\n",
              "      <td>0.29</td>\n",
              "      <td>0.32</td>\n",
              "      <td>0.89</td>\n",
              "      <td>1:25:59</td>\n",
              "      <td>0:01:35</td>\n",
              "    </tr>\n",
              "    <tr>\n",
              "      <th>3</th>\n",
              "      <td>0.24</td>\n",
              "      <td>0.32</td>\n",
              "      <td>0.89</td>\n",
              "      <td>1:25:59</td>\n",
              "      <td>0:01:35</td>\n",
              "    </tr>\n",
              "  </tbody>\n",
              "</table>\n",
              "</div>"
            ],
            "text/plain": [
              "       Training Loss  Valid. Loss  Valid. Accur. Training Time Validation Time\n",
              "epoch                                                                         \n",
              "1               0.42         0.33           0.88       1:25:52         0:01:35\n",
              "2               0.29         0.32           0.89       1:25:59         0:01:35\n",
              "3               0.24         0.32           0.89       1:25:59         0:01:35"
            ]
          },
          "metadata": {
            "tags": []
          },
          "execution_count": 19
        }
      ]
    },
    {
      "cell_type": "code",
      "metadata": {
        "id": "8_hea62u3kiX",
        "colab_type": "code",
        "colab": {
          "base_uri": "https://localhost:8080/",
          "height": 418
        },
        "outputId": "82abafad-55e1-4f54-afa9-72d158a19d47"
      },
      "source": [
        "import matplotlib.pyplot as plt\n",
        "% matplotlib inline\n",
        "\n",
        "import seaborn as sns\n",
        "\n",
        "# Use plot styling from seaborn.\n",
        "sns.set(style='darkgrid')\n",
        "\n",
        "# Increase the plot size and font size.\n",
        "sns.set(font_scale=1.5)\n",
        "plt.rcParams[\"figure.figsize\"] = (12,6)\n",
        "\n",
        "# Plot the learning curve.\n",
        "plt.plot(df_stats['Training Loss'], 'b-o', label=\"Training\")\n",
        "plt.plot(df_stats['Valid. Loss'], 'g-o', label=\"Validation\")\n",
        "\n",
        "# Label the plot.\n",
        "plt.title(\"Training & Validation Loss\")\n",
        "plt.xlabel(\"Epoch\")\n",
        "plt.ylabel(\"Loss\")\n",
        "plt.legend()\n",
        "plt.xticks([1, 2, 3, 4])\n",
        "\n",
        "plt.show()"
      ],
      "execution_count": 20,
      "outputs": [
        {
          "output_type": "stream",
          "text": [
            "/usr/local/lib/python3.6/dist-packages/statsmodels/tools/_testing.py:19: FutureWarning: pandas.util.testing is deprecated. Use the functions in the public API at pandas.testing instead.\n",
            "  import pandas.util.testing as tm\n"
          ],
          "name": "stderr"
        },
        {
          "output_type": "display_data",
          "data": {
            "image/png": "[encoded data removed]",
            "text/plain": [
              "<Figure size 864x432 with 1 Axes>"
            ]
          },
          "metadata": {
            "tags": []
          }
        }
      ]
    },
    {
      "cell_type": "code",
      "metadata": {
        "id": "iqw1g4lC1Bve",
        "colab_type": "code",
        "colab": {}
      },
      "source": [
        "torch.save(model, './model.pt')"
      ],
      "execution_count": 0,
      "outputs": []
    },
    {
      "cell_type": "code",
      "metadata": {
        "id": "c2Q0t1VF1KJm",
        "colab_type": "code",
        "colab": {}
      },
      "source": [
        "torch.save(model.state_dict(), './model_state_dict.pt')"
      ],
      "execution_count": 0,
      "outputs": []
    },
    {
      "cell_type": "code",
      "metadata": {
        "id": "ECsQYiWP3sa3",
        "colab_type": "code",
        "colab": {}
      },
      "source": [
        "input_ids = []\n",
        "attention_masks = []\n",
        "\n",
        "# For every sentence...\n",
        "for i in range(len(res_test)):\n",
        "    # `encode_plus` will:\n",
        "    #   (1) Tokenize the sentence.\n",
        "    #   (2) Prepend the `[CLS]` token to the start.\n",
        "    #   (3) Append the `[SEP]` token to the end.\n",
        "    #   (4) Map tokens to their IDs.\n",
        "    #   (5) Pad or truncate the sentence to `max_length`\n",
        "    #   (6) Create attention masks for [PAD] tokens.\n",
        "    encoded_dict = tokenizer.encode_plus(\n",
        "                        sen1_test[i],                      # Sentence to encode.\n",
        "                        sen2_test[i],\n",
        "                        max_length = 512,           # Pad & truncate all sentences.\n",
        "                        pad_to_max_length = True,\n",
        "                        return_attention_mask = True,   # Construct attn. masks.\n",
        "                        return_tensors = 'pt',     # Return pytorch tensors.\n",
        "                   )\n",
        "    \n",
        "    # Add the encoded sentence to the list.    \n",
        "    input_ids.append(encoded_dict['input_ids'])\n",
        "    \n",
        "    # And its attention mask (simply differentiates padding from non-padding).\n",
        "    attention_masks.append(encoded_dict['attention_mask'])\n",
        "\n",
        "# Convert the lists into tensors.\n",
        "input_ids = torch.cat(input_ids, dim=0)\n",
        "attention_masks = torch.cat(attention_masks, dim=0)\n",
        "res_test = torch.tensor(res_test)\n",
        "\n",
        "# Set the batch size.  \n",
        "batch_size = 128  \n",
        "\n",
        "# Create the DataLoader.\n",
        "prediction_data = TensorDataset(input_ids, attention_masks, res_test)\n",
        "prediction_sampler = SequentialSampler(prediction_data)\n",
        "prediction_dataloader = DataLoader(prediction_data, sampler=prediction_sampler, batch_size=batch_size)"
      ],
      "execution_count": 0,
      "outputs": []
    },
    {
      "cell_type": "code",
      "metadata": {
        "id": "T7JiuvjW4EEm",
        "colab_type": "code",
        "colab": {}
      },
      "source": [
        ""
      ],
      "execution_count": 0,
      "outputs": []
    },
    {
      "cell_type": "code",
      "metadata": {
        "id": "AGyYgwA34Gsd",
        "colab_type": "code",
        "colab": {
          "base_uri": "https://localhost:8080/",
          "height": 51
        },
        "outputId": "a9a87004-bce7-4804-8ec8-f8eb292913de"
      },
      "source": [
        "# Prediction on test set\n",
        "\n",
        "print('Predicting labels for {:,} test sentences...'.format(len(input_ids)))\n",
        "\n",
        "# Put model in evaluation mode\n",
        "model.eval()\n",
        "\n",
        "# Tracking variables \n",
        "predictions , true_labels = [], []\n",
        "\n",
        "# Predict \n",
        "for batch in prediction_dataloader:\n",
        "  # Add batch to GPU\n",
        "  batch = tuple(t.to(device) for t in batch)\n",
        "  \n",
        "  # Unpack the inputs from our dataloader\n",
        "  b_input_ids, b_input_mask, b_labels = batch\n",
        "  \n",
        "  # Telling the model not to compute or store gradients, saving memory and \n",
        "  # speeding up prediction\n",
        "  with torch.no_grad():\n",
        "      # Forward pass, calculate logit predictions\n",
        "      outputs = model(b_input_ids, token_type_ids=None, \n",
        "                      attention_mask=b_input_mask)\n",
        "\n",
        "  logits = outputs[0]\n",
        "\n",
        "  # Move logits and labels to CPU\n",
        "  logits = logits.detach().cpu().numpy()\n",
        "  label_ids = b_labels.to('cpu').numpy()\n",
        "  \n",
        "  # Store predictions and true labels\n",
        "  predictions.append(logits)\n",
        "  true_labels.append(label_ids)\n",
        "\n",
        "print('    DONE.')"
      ],
      "execution_count": 24,
      "outputs": [
        {
          "output_type": "stream",
          "text": [
            "Predicting labels for 9,824 test sentences...\n",
            "    DONE.\n"
          ],
          "name": "stdout"
        }
      ]
    },
    {
      "cell_type": "code",
      "metadata": {
        "id": "RoLUfo4p2Sjt",
        "colab_type": "code",
        "colab": {
          "base_uri": "https://localhost:8080/",
          "height": 88
        },
        "outputId": "e304db72-73ed-4805-e200-50fa85f86da2"
      },
      "source": [
        "sz = len(predictions)\n",
        "acc = 0\n",
        "for i in range(sz):\n",
        "    if predictions[i] == true_labels[i]:\n",
        "        acc+=1\n",
        "print(acc*100/sz)"
      ],
      "execution_count": 25,
      "outputs": [
        {
          "output_type": "stream",
          "text": [
            "0.0\n"
          ],
          "name": "stdout"
        },
        {
          "output_type": "stream",
          "text": [
            "/usr/local/lib/python3.6/dist-packages/ipykernel_launcher.py:4: DeprecationWarning: elementwise comparison failed; this will raise an error in the future.\n",
            "  after removing the cwd from sys.path.\n"
          ],
          "name": "stderr"
        }
      ]
    },
    {
      "cell_type": "code",
      "metadata": {
        "id": "j06OtZaO2jae",
        "colab_type": "code",
        "colab": {
          "base_uri": "https://localhost:8080/",
          "height": 34
        },
        "outputId": "599b2193-4e80-4573-ed70-afaa47e5669d"
      },
      "source": [
        "len(predictions[0][0])"
      ],
      "execution_count": 26,
      "outputs": [
        {
          "output_type": "execute_result",
          "data": {
            "text/plain": [
              "3"
            ]
          },
          "metadata": {
            "tags": []
          },
          "execution_count": 26
        }
      ]
    },
    {
      "cell_type": "code",
      "metadata": {
        "id": "jX8RDD253E3K",
        "colab_type": "code",
        "colab": {
          "base_uri": "https://localhost:8080/",
          "height": 119
        },
        "outputId": "d9dca082-89a6-4fa9-b7eb-2a591bc1df9b"
      },
      "source": [
        "true_labels[0]"
      ],
      "execution_count": 27,
      "outputs": [
        {
          "output_type": "execute_result",
          "data": {
            "text/plain": [
              "array([1, 2, 0, 1, 2, 0, 2, 1, 0, 1, 2, 0, 2, 2, 0, 0, 2, 1, 2, 0, 1, 0,\n",
              "       2, 1, 1, 0, 2, 2, 1, 0, 0, 2, 2, 2, 1, 0, 1, 2, 0, 2, 1, 0, 0, 2,\n",
              "       1, 1, 0, 2, 1, 0, 1, 2, 0, 1, 0, 2, 2, 0, 1, 2, 0, 1, 1, 2, 0, 2,\n",
              "       1, 1, 0, 1, 2, 0, 2, 1, 0, 2, 1, 2, 2, 0, 0, 0, 2, 2, 0, 1, 0, 1,\n",
              "       2, 1, 0, 2, 1, 2, 0, 0, 2, 1, 1, 2, 0, 1, 2, 0, 2, 1, 2, 0, 2, 2,\n",
              "       2, 0, 1, 2, 0, 1, 2, 0, 0, 2, 1, 1, 0, 1, 2, 0, 1, 2])"
            ]
          },
          "metadata": {
            "tags": []
          },
          "execution_count": 27
        }
      ]
    },
    {
      "cell_type": "code",
      "metadata": {
        "id": "fcxlXYG5479Y",
        "colab_type": "code",
        "colab": {
          "base_uri": "https://localhost:8080/",
          "height": 119
        },
        "outputId": "f348bb2f-0389-4c47-bef1-17410a6f4e09"
      },
      "source": [
        "true_labels[1]"
      ],
      "execution_count": 28,
      "outputs": [
        {
          "output_type": "execute_result",
          "data": {
            "text/plain": [
              "array([0, 0, 1, 2, 1, 2, 0, 2, 0, 1, 2, 0, 1, 1, 2, 0, 1, 0, 2, 1, 1, 0,\n",
              "       2, 1, 0, 0, 1, 2, 1, 0, 2, 1, 2, 0, 1, 1, 0, 2, 0, 1, 0, 2, 2, 2,\n",
              "       0, 1, 2, 0, 1, 1, 0, 2, 1, 2, 1, 1, 2, 0, 0, 1, 2, 2, 1, 0, 2, 1,\n",
              "       0, 2, 0, 1, 0, 1, 2, 1, 0, 1, 2, 0, 2, 1, 0, 0, 2, 1, 0, 2, 1, 2,\n",
              "       1, 0, 2, 0, 1, 1, 2, 0, 2, 2, 0, 0, 2, 2, 1, 0, 1, 1, 2, 0, 2, 0,\n",
              "       1, 0, 1, 2, 2, 2, 0, 2, 1, 0, 1, 0, 2, 0, 2, 1, 1, 0])"
            ]
          },
          "metadata": {
            "tags": []
          },
          "execution_count": 28
        }
      ]
    },
    {
      "cell_type": "code",
      "metadata": {
        "id": "A22SB6H23tFx",
        "colab_type": "code",
        "colab": {
          "base_uri": "https://localhost:8080/",
          "height": 34
        },
        "outputId": "726c1521-e45e-483c-d2d2-5d9ca1b21400"
      },
      "source": [
        "predictions[0][0]"
      ],
      "execution_count": 29,
      "outputs": [
        {
          "output_type": "execute_result",
          "data": {
            "text/plain": [
              "array([ 2.1006656,  0.9454557, -3.4281952], dtype=float32)"
            ]
          },
          "metadata": {
            "tags": []
          },
          "execution_count": 29
        }
      ]
    },
    {
      "cell_type": "code",
      "metadata": {
        "id": "MHqj1ivk4fX5",
        "colab_type": "code",
        "colab": {
          "base_uri": "https://localhost:8080/",
          "height": 34
        },
        "outputId": "1f22cb5e-cf6f-4c82-820a-228e3a612a0f"
      },
      "source": [
        "predictions[0][1]"
      ],
      "execution_count": 30,
      "outputs": [
        {
          "output_type": "execute_result",
          "data": {
            "text/plain": [
              "array([-3.8194363,  0.3100642,  3.2787828], dtype=float32)"
            ]
          },
          "metadata": {
            "tags": []
          },
          "execution_count": 30
        }
      ]
    },
    {
      "cell_type": "code",
      "metadata": {
        "id": "i6mp9oaW4sA-",
        "colab_type": "code",
        "colab": {
          "base_uri": "https://localhost:8080/",
          "height": 34
        },
        "outputId": "6a17319d-9c98-4309-ded6-f7dc440ca9b1"
      },
      "source": [
        "predictions[0][2]"
      ],
      "execution_count": 31,
      "outputs": [
        {
          "output_type": "execute_result",
          "data": {
            "text/plain": [
              "array([ 4.5478086, -0.5532716, -3.8521395], dtype=float32)"
            ]
          },
          "metadata": {
            "tags": []
          },
          "execution_count": 31
        }
      ]
    },
    {
      "cell_type": "code",
      "metadata": {
        "id": "I5vygvGa5y3h",
        "colab_type": "code",
        "colab": {
          "base_uri": "https://localhost:8080/",
          "height": 34
        },
        "outputId": "09090b8d-a1e1-437e-e550-6d351053a41f"
      },
      "source": [
        "len(predictions)"
      ],
      "execution_count": 32,
      "outputs": [
        {
          "output_type": "execute_result",
          "data": {
            "text/plain": [
              "77"
            ]
          },
          "metadata": {
            "tags": []
          },
          "execution_count": 32
        }
      ]
    },
    {
      "cell_type": "code",
      "metadata": {
        "id": "Upo8Of4g7OmS",
        "colab_type": "code",
        "colab": {
          "base_uri": "https://localhost:8080/",
          "height": 34
        },
        "outputId": "13d020d8-005b-4bcf-b747-a87bb7d4a674"
      },
      "source": [
        "len(predictions[0])"
      ],
      "execution_count": 33,
      "outputs": [
        {
          "output_type": "execute_result",
          "data": {
            "text/plain": [
              "128"
            ]
          },
          "metadata": {
            "tags": []
          },
          "execution_count": 33
        }
      ]
    },
    {
      "cell_type": "code",
      "metadata": {
        "id": "RS3mrLtt7TbK",
        "colab_type": "code",
        "colab": {
          "base_uri": "https://localhost:8080/",
          "height": 34
        },
        "outputId": "012fe9bf-d382-4f05-e1ca-7329db371b26"
      },
      "source": [
        "len(predictions[0][0])"
      ],
      "execution_count": 34,
      "outputs": [
        {
          "output_type": "execute_result",
          "data": {
            "text/plain": [
              "3"
            ]
          },
          "metadata": {
            "tags": []
          },
          "execution_count": 34
        }
      ]
    },
    {
      "cell_type": "code",
      "metadata": {
        "id": "raJ1-tB97YCK",
        "colab_type": "code",
        "colab": {
          "base_uri": "https://localhost:8080/",
          "height": 34
        },
        "outputId": "680ed760-2197-4ae5-eacc-dd161bb80982"
      },
      "source": [
        "len(true_labels)"
      ],
      "execution_count": 35,
      "outputs": [
        {
          "output_type": "execute_result",
          "data": {
            "text/plain": [
              "77"
            ]
          },
          "metadata": {
            "tags": []
          },
          "execution_count": 35
        }
      ]
    },
    {
      "cell_type": "code",
      "metadata": {
        "id": "FN7Fq3767fZ7",
        "colab_type": "code",
        "colab": {
          "base_uri": "https://localhost:8080/",
          "height": 34
        },
        "outputId": "1a583a10-f494-48b9-e653-c6764dffb509"
      },
      "source": [
        "len(true_labels[0])"
      ],
      "execution_count": 36,
      "outputs": [
        {
          "output_type": "execute_result",
          "data": {
            "text/plain": [
              "128"
            ]
          },
          "metadata": {
            "tags": []
          },
          "execution_count": 36
        }
      ]
    },
    {
      "cell_type": "code",
      "metadata": {
        "id": "7nLh9Pe75Dfm",
        "colab_type": "code",
        "colab": {}
      },
      "source": [
        "#predictions = 77 X 128 X 3\n",
        "#truelabels = 77 X 128"
      ],
      "execution_count": 0,
      "outputs": []
    },
    {
      "cell_type": "code",
      "metadata": {
        "id": "y7tAwfY_3Q2f",
        "colab_type": "code",
        "colab": {}
      },
      "source": [
        "with open('./predictions.txt', \"w\") as file:\n",
        "    for item in predictions:\n",
        "        for it in item:\n",
        "            file.write(str(it))"
      ],
      "execution_count": 0,
      "outputs": []
    },
    {
      "cell_type": "code",
      "metadata": {
        "id": "UU6ixa_p30vk",
        "colab_type": "code",
        "colab": {}
      },
      "source": [
        "with open('./true_labels.txt', \"w\") as file:\n",
        "    for item in true_labels:\n",
        "        for it in item:\n",
        "            file.write(str(it))"
      ],
      "execution_count": 0,
      "outputs": []
    },
    {
      "cell_type": "code",
      "metadata": {
        "id": "0L8h0IDZ2Ayi",
        "colab_type": "code",
        "colab": {}
      },
      "source": [
        "with open('./true_val.txt', \"w\") as file:\n",
        "    for it in true_labels:\n",
        "        for item in it:\n",
        "            if item == 0:\n",
        "                file.write(\"contradiction\\n\")\n",
        "            elif item == 1:\n",
        "                file.write(\"neutral\\n\")\n",
        "            elif item == 2:\n",
        "                file.write(\"entailment\\n\")\n",
        "            else:\n",
        "                pass"
      ],
      "execution_count": 0,
      "outputs": []
    },
    {
      "cell_type": "code",
      "metadata": {
        "id": "ExEl59xM7w2l",
        "colab_type": "code",
        "colab": {}
      },
      "source": [
        "mypredict = []\n",
        "for item in predictions:\n",
        "    for it in item:\n",
        "        i = np.argmax(it)\n",
        "        mypredict.append(i)\n"
      ],
      "execution_count": 0,
      "outputs": []
    },
    {
      "cell_type": "code",
      "metadata": {
        "id": "5V6nAkQ18CVV",
        "colab_type": "code",
        "colab": {
          "base_uri": "https://localhost:8080/",
          "height": 34
        },
        "outputId": "679a5e8c-4d86-4186-a6c6-e65bcd6109ef"
      },
      "source": [
        "len(mypredict)"
      ],
      "execution_count": 42,
      "outputs": [
        {
          "output_type": "execute_result",
          "data": {
            "text/plain": [
              "9824"
            ]
          },
          "metadata": {
            "tags": []
          },
          "execution_count": 42
        }
      ]
    },
    {
      "cell_type": "code",
      "metadata": {
        "id": "Q9vHdo8x8J6D",
        "colab_type": "code",
        "colab": {
          "base_uri": "https://localhost:8080/",
          "height": 34
        },
        "outputId": "d9bd1b4f-4e92-41b7-de1d-d7a3b4c9f328"
      },
      "source": [
        "sz = len(mypredict)\n",
        "acc = 0\n",
        "for i in range(sz):\n",
        "    if mypredict[i] == res_test[i]:\n",
        "        acc+=1\n",
        "print(acc*100/sz)\n",
        "with open('./dl.txt', \"w\") as file:\n",
        "    for item in mypredict:\n",
        "        if item == 0:\n",
        "            file.write(\"contradiction\\n\")\n",
        "        elif item == 1:\n",
        "            file.write(\"neutral\\n\")\n",
        "        elif item == 2:\n",
        "            file.write(\"entailment\\n\")\n",
        "        else:\n",
        "            pass"
      ],
      "execution_count": 43,
      "outputs": [
        {
          "output_type": "stream",
          "text": [
            "90.48249185667753\n"
          ],
          "name": "stdout"
        }
      ]
    },
    {
      "cell_type": "code",
      "metadata": {
        "id": "pgwUkJi18Wpy",
        "colab_type": "code",
        "colab": {
          "base_uri": "https://localhost:8080/",
          "height": 34
        },
        "outputId": "74021204-35ba-44b5-e2d5-604d0b875467"
      },
      "source": [
        "print(acc)"
      ],
      "execution_count": 44,
      "outputs": [
        {
          "output_type": "stream",
          "text": [
            "8889\n"
          ],
          "name": "stdout"
        }
      ]
    },
    {
      "cell_type": "code",
      "metadata": {
        "id": "qrHIrGmz9pGG",
        "colab_type": "code",
        "colab": {}
      },
      "source": [
        "mytrue_labels = []\n",
        "for item in true_labels:\n",
        "    for it in item:\n",
        "        mytrue_labels.append(it)"
      ],
      "execution_count": 0,
      "outputs": []
    },
    {
      "cell_type": "code",
      "metadata": {
        "id": "bREOOKBw8jVa",
        "colab_type": "code",
        "colab": {
          "base_uri": "https://localhost:8080/",
          "height": 34
        },
        "outputId": "1b0b3d4a-0200-4265-fabd-103c7eeaa4a6"
      },
      "source": [
        "acc2 = 0\n",
        "for i in range(len(mypredict)):\n",
        "    j = int(i/len(true_labels))\n",
        "    if mypredict[i] == mytrue_labels[i]:\n",
        "        acc2 += 1\n",
        "acc2"
      ],
      "execution_count": 46,
      "outputs": [
        {
          "output_type": "execute_result",
          "data": {
            "text/plain": [
              "8889"
            ]
          },
          "metadata": {
            "tags": []
          },
          "execution_count": 46
        }
      ]
    }
  ]
}