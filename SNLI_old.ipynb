{
 "cells": [
  {
   "cell_type": "code",
   "execution_count": 7,
   "metadata": {},
   "outputs": [],
   "source": [
    "!python -m nltk.downloader punkt\n",
    "!python -m nltk.downloader stopwords\n",
    "!python -m nltk.downloader wordnet"
   ]
  },
  {
   "cell_type": "code",
   "execution_count": 9,
   "metadata": {},
   "outputs": [],
   "source": [
    "f= open(os.path.abspath('/home/sum/Workspace/Assignments/Natural_Language_Inference/snli_1.0/snli_1.0_train.jsonl'),\"r\")"
   ]
  },
  {
   "cell_type": "code",
   "execution_count": 46,
   "metadata": {},
   "outputs": [],
   "source": [
    "import os\n",
    "with open(os.path.abspath('/home/sum/Workspace/Assignments/Natural_Language_Inference/snli_1.0/snli_1.0_train.jsonl'), 'r') as file:\n",
    "    lines = file.read()\n",
    "    lines = lines.split('\\n')\n",
    "    nlines = len(lines) - 1"
   ]
  },
  {
   "cell_type": "code",
   "execution_count": 47,
   "metadata": {},
   "outputs": [],
   "source": [
    "import json\n",
    "sen1 = []\n",
    "sen2 = []\n",
    "res = []\n",
    "for i in range(nlines):\n",
    "    x = json.loads(lines[i])\n",
    "    sen1.append(x['sentence1'])\n",
    "    sen2.append(x['sentence2'])\n",
    "    res.append(x['gold_label'])"
   ]
  },
  {
   "cell_type": "code",
   "execution_count": 39,
   "metadata": {},
   "outputs": [],
   "source": [
    "obj = json.loads(lines[550151])"
   ]
  },
  {
   "cell_type": "code",
   "execution_count": 41,
   "metadata": {},
   "outputs": [
    {
     "name": "stdout",
     "output_type": "stream",
     "text": [
      "{\"annotator_labels\": [\"entailment\"], \"captionID\": \"7979219683.jpg#2\", \"gold_label\": \"entailment\", \"pairID\": \"7979219683.jpg#2r1e\", \"sentence1\": \"A man is surfing in a bodysuit in beautiful blue water.\", \"sentence1_binary_parse\": \"( ( A man ) ( ( is ( surfing ( in ( ( a bodysuit ) ( in ( beautiful ( blue water ) ) ) ) ) ) ) . ) )\", \"sentence1_parse\": \"(ROOT (S (NP (DT A) (NN man)) (VP (VBZ is) (VP (VBG surfing) (PP (IN in) (NP (NP (DT a) (NN bodysuit)) (PP (IN in) (NP (JJ beautiful) (JJ blue) (NN water))))))) (. .)))\", \"sentence2\": \"On the beautiful blue water there is a man in a bodysuit surfing.\", \"sentence2_binary_parse\": \"( ( On ( the ( beautiful ( blue water ) ) ) ) ( there ( ( is ( ( a man ) ( in ( a ( bodysuit surfing ) ) ) ) ) . ) ) )\", \"sentence2_parse\": \"(ROOT (S (PP (IN On) (NP (DT the) (JJ beautiful) (JJ blue) (NN water))) (NP (EX there)) (VP (VBZ is) (NP (NP (DT a) (NN man)) (PP (IN in) (NP (DT a) (JJ bodysuit) (NN surfing))))) (. .)))\"}\n"
     ]
    }
   ],
   "source": [
    "print(lines[550151])"
   ]
  },
  {
   "cell_type": "code",
   "execution_count": 31,
   "metadata": {},
   "outputs": [
    {
     "name": "stdout",
     "output_type": "stream",
     "text": [
      "neutral\n"
     ]
    }
   ],
   "source": [
    "print(obj['gold_label'])"
   ]
  },
  {
   "cell_type": "code",
   "execution_count": 26,
   "metadata": {},
   "outputs": [
    {
     "name": "stdout",
     "output_type": "stream",
     "text": [
      "{'annotator_labels': ['neutral'], 'captionID': '3416050480.jpg#4', 'gold_label': 'neutral', 'pairID': '3416050480.jpg#4r1n', 'sentence1': 'A person on a horse jumps over a broken down airplane.', 'sentence1_binary_parse': '( ( ( A person ) ( on ( a horse ) ) ) ( ( jumps ( over ( a ( broken ( down airplane ) ) ) ) ) . ) )', 'sentence1_parse': '(ROOT (S (NP (NP (DT A) (NN person)) (PP (IN on) (NP (DT a) (NN horse)))) (VP (VBZ jumps) (PP (IN over) (NP (DT a) (JJ broken) (JJ down) (NN airplane)))) (. .)))', 'sentence2': 'A person is training his horse for a competition.', 'sentence2_binary_parse': '( ( A person ) ( ( is ( ( training ( his horse ) ) ( for ( a competition ) ) ) ) . ) )', 'sentence2_parse': '(ROOT (S (NP (DT A) (NN person)) (VP (VBZ is) (VP (VBG training) (NP (PRP$ his) (NN horse)) (PP (IN for) (NP (DT a) (NN competition))))) (. .)))'}\n"
     ]
    }
   ],
   "source": [
    "print(obj)"
   ]
  },
  {
   "cell_type": "code",
   "execution_count": 82,
   "metadata": {
    "scrolled": false
   },
   "outputs": [],
   "source": [
    "import re\n",
    "import string\n",
    "import nltk\n",
    "from nltk.corpus import stopwords\n",
    "stop_words = set(stopwords.words('english'))\n",
    "from nltk.stem import PorterStemmer\n",
    "ps = PorterStemmer()\n",
    "from nltk.stem import WordNetLemmatizer\n",
    "lemmatizer=WordNetLemmatizer()\n",
    "#import num2word can be used if numbers are important\n",
    "from collections import Counter \n",
    "def remove_duplicate_words(list):\n",
    "    return Counter(list).keys()\n",
    "def preprocessing(list):\n",
    "    \n",
    "    new_list = []\n",
    "    for doc in list:\n",
    "        doc = doc.lower()\n",
    "        doc = re.sub(r'\\d+', '', doc)\n",
    "        doc = doc.translate(str.maketrans(\"\",\"\", string.punctuation))\n",
    "        doc = doc.strip()\n",
    "        tokens = nltk.word_tokenize(doc)\n",
    "        tokens = [i for i in tokens if not i in stop_words]\n",
    "        tokens = [ps.stem(i) for i in tokens]\n",
    "        tokens = remove_duplicate_words(tokens)\n",
    "        tokens = [lemmatizer.lemmatize(i) for i in tokens]\n",
    "        tokens = [i for i in tokens if len(i) > 1]\n",
    "        tokens = remove_duplicate_words(tokens)\n",
    "        new_list.append(tokens)\n",
    "    return new_list"
   ]
  },
  {
   "cell_type": "code",
   "execution_count": 85,
   "metadata": {
    "scrolled": false
   },
   "outputs": [],
   "source": [
    "print(sen1[0])\n",
    "new_list = preprocessing(sen1)\n",
    "print(new_list[0])"
   ]
  },
  {
   "cell_type": "code",
   "execution_count": 86,
   "metadata": {},
   "outputs": [
    {
     "name": "stdout",
     "output_type": "stream",
     "text": [
      "dict_keys(['person', 'hors', 'jump', 'broken', 'airplan'])\n"
     ]
    }
   ],
   "source": [
    "print(sen2[0])\n",
    "new_list = preprocessing(sen2)\n",
    "print(new_list[0])"
   ]
  },
  {
   "cell_type": "code",
   "execution_count": 87,
   "metadata": {},
   "outputs": [
    {
     "name": "stdout",
     "output_type": "stream",
     "text": [
      "A person on a horse jumps over a broken down airplane.\n"
     ]
    }
   ],
   "source": []
  },
  {
   "cell_type": "code",
   "execution_count": null,
   "metadata": {},
   "outputs": [],
   "source": []
  }
 ],
 "metadata": {
  "kernelspec": {
   "display_name": "Python 3",
   "language": "python",
   "name": "python3"
  },
  "language_info": {
   "codemirror_mode": {
    "name": "ipython",
    "version": 3
   },
   "file_extension": ".py",
   "mimetype": "text/x-python",
   "name": "python",
   "nbconvert_exporter": "python",
   "pygments_lexer": "ipython3",
   "version": "3.6.10"
  }
 },
 "nbformat": 4,
 "nbformat_minor": 4
}
